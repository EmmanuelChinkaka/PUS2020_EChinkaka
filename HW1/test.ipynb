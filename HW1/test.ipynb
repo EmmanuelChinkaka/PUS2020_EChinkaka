{
  "nbformat": 4,
  "nbformat_minor": 0,
  "metadata": {
    "colab": {
      "provenance": [],
      "include_colab_link": true
    },
    "kernelspec": {
      "name": "python3",
      "display_name": "Python 3"
    },
    "language_info": {
      "name": "python"
    }
  },
  "cells": [
    {
      "cell_type": "markdown",
      "metadata": {
        "id": "view-in-github",
        "colab_type": "text"
      },
      "source": [
        "<a href=\"https://colab.research.google.com/github/EmmanuelChinkaka/PUS2020_EChinkaka/blob/main/HW1/test.ipynb\" target=\"_parent\"><img src=\"https://colab.research.google.com/assets/colab-badge.svg\" alt=\"Open In Colab\"/></a>"
      ]
    },
    {
      "cell_type": "code",
      "execution_count": null,
      "metadata": {
        "colab": {
          "base_uri": "https://localhost:8080/"
        },
        "id": "sFQYHYY1stWr",
        "outputId": "7eecf1a1-efeb-4123-d202-d16f5d558017"
      },
      "outputs": [
        {
          "output_type": "stream",
          "name": "stdout",
          "text": [
            "Hello World!\n"
          ]
        }
      ],
      "source": [
        "# This is an introduction code to Collab in the PUS2022 Course with Dr. Federica Bianco\n",
        "print('Hello World!')"
      ]
    },
    {
      "cell_type": "markdown",
      "source": [
        "Defining variables in Collab"
      ],
      "metadata": {
        "id": "JOOVKxiPs8wM"
      }
    },
    {
      "cell_type": "code",
      "source": [
        "x = 4\n",
        "print(x)\n"
      ],
      "metadata": {
        "colab": {
          "base_uri": "https://localhost:8080/"
        },
        "id": "XYLEbSADtBiN",
        "outputId": "c72299c5-f8af-4299-cd19-17720dbb5093"
      },
      "execution_count": null,
      "outputs": [
        {
          "output_type": "stream",
          "name": "stdout",
          "text": [
            "4\n"
          ]
        }
      ]
    },
    {
      "cell_type": "markdown",
      "source": [
        "Checking the variable type"
      ],
      "metadata": {
        "id": "tkYBcUt7tF8b"
      }
    },
    {
      "cell_type": "code",
      "source": [
        "type(x)"
      ],
      "metadata": {
        "colab": {
          "base_uri": "https://localhost:8080/"
        },
        "id": "iVGgfQ_htIDP",
        "outputId": "3c31bc42-6fc0-4de0-a62b-6a6ef9b887b3"
      },
      "execution_count": null,
      "outputs": [
        {
          "output_type": "execute_result",
          "data": {
            "text/plain": [
              "int"
            ]
          },
          "metadata": {},
          "execution_count": 3
        }
      ]
    },
    {
      "cell_type": "code",
      "source": [
        "#Using the print function\n",
        "from typing import Type\n",
        "type(x)\n"
      ],
      "metadata": {
        "colab": {
          "base_uri": "https://localhost:8080/"
        },
        "id": "eOBCOjCrtPJ-",
        "outputId": "837b66b7-805c-41b3-9caa-d278c88b90c3"
      },
      "execution_count": null,
      "outputs": [
        {
          "output_type": "execute_result",
          "data": {
            "text/plain": [
              "int"
            ]
          },
          "metadata": {},
          "execution_count": 4
        }
      ]
    },
    {
      "cell_type": "code",
      "source": [
        "#Listing numbers from 0 to 9\n",
        "a = list(range(10))\n",
        "a"
      ],
      "metadata": {
        "colab": {
          "base_uri": "https://localhost:8080/"
        },
        "id": "r2mK2YhbtVPj",
        "outputId": "fa2f7260-dace-4683-c8b5-96a64fd02f62"
      },
      "execution_count": null,
      "outputs": [
        {
          "output_type": "execute_result",
          "data": {
            "text/plain": [
              "[0, 1, 2, 3, 4, 5, 6, 7, 8, 9]"
            ]
          },
          "metadata": {},
          "execution_count": 5
        }
      ]
    },
    {
      "cell_type": "code",
      "source": [
        "#Plottig graphs\n",
        "import pylab\n",
        "pylab.plot(a,a)\n",
        "pylab.xlabel('Some X value')\n",
        "pylab.ylabel('Some y value')\n",
        "pylab.title('Fugure 1:  Linear Plot Example of x Vs y');"
      ],
      "metadata": {
        "colab": {
          "base_uri": "https://localhost:8080/",
          "height": 295
        },
        "id": "uGmPkqALtZNF",
        "outputId": "fd4f1c30-134b-46fe-d1d6-ddb026ee6e48"
      },
      "execution_count": null,
      "outputs": [
        {
          "output_type": "display_data",
          "data": {
            "text/plain": [
              "<Figure size 432x288 with 1 Axes>"
            ],
            "image/png": "[encoded data removed]"
          },
          "metadata": {
            "needs_background": "light"
          }
        }
      ]
    }
  ]
}