{
  "nbformat": 4,
  "nbformat_minor": 0,
  "metadata": {
    "colab": {
      "provenance": [],
      "include_colab_link": true
    },
    "kernelspec": {
      "name": "python3",
      "display_name": "Python 3"
    }
  },
  "cells": [
    {
      "cell_type": "markdown",
      "metadata": {
        "id": "view-in-github",
        "colab_type": "text"
      },
      "source": [
        "<a href=\"https://colab.research.google.com/github/EmmanuelChinkaka/PUS2022_EChinkaka/blob/main/HW6/RandomForest_Chicago_DC_Answers.ipynb\" target=\"_parent\"><img src=\"https://colab.research.google.com/assets/colab-badge.svg\" alt=\"Open In Colab\"/></a>"
      ]
    },
    {
      "cell_type": "markdown",
      "metadata": {
        "id": "KW9Oy459fxHz"
      },
      "source": [
        "Following the paper \"Examining the feasibility of using open data to benchmark building energy usage in cities: A data science and policy perspective\" [Roth et al 2019](https://www.researchgate.net/publication/337074109_Examining_the_feasibility_of_using_open_data_to_benchmark_building_energy_usage_in_cities_A_data_science_and_policy_perspective), choose 2 cities in the dataset available through the paper's github repository https://github.com/Urban-Informatics-Lab/Open-Data-Benchmarking\n",
        "\n",
        "This paper is an excellent example of reproducible research. \n",
        "\n",
        "I also created an example of using random forest classifier and regressors here https://github.com/fedhere/PUS2022_FBianco/blob/master/classdemo/COVID19LOS_featureExtractionRFexample.ipynb and there are links at the bottom of this notebook to useful functions and examples on the internet of applications of methods you will need to use.\n",
        "\n",
        "1. Describe here (briefly) the goals of their analysis (and the analysis that you are about to reproduce). \n",
        "\n",
        "It is predicted that the global urban population shall increase to about 6.4 billion residents by 2050. Since the urban population depend on energy for thier daily needs, the energy needs shall increase to about 730 EJ. This shall come with increased building development, which are the largest energy consumers in the cities. The papaer examined the feasibility of using city-specific, public open data in order to benchmark two models and compare the\n",
        "results to the same models when using the Commercial Building Energy Consumption Survey (CBECS) dataset, the basis for Energy Star.\n",
        "\n",
        "In this assigments, we use RandomForest Machine Learning model to predict the total energy consuption n cities (I choose Chicago and Philadephia). \n",
        "To do this. we firstly, gather the city data from https://github.com/Urban-Informatics-Lab/Open-Data-Benchmarking. And secondaly, do preprocessing by cleanining the data, apply one-hot-encoding on categorical variables and impute missing data using KNearestNeighors. Finally, run the RandomForest model.\n",
        "\n",
        
    {
      "cell_type": "code",
      "metadata": {
        "id": "EVupHHIYHuUK"
      },
      "source": [
        "import pandas as pd\n",
        "import numpy as np"
      ],
      "execution_count": 128,
      "outputs": []
    },
    {
      "cell_type": "markdown",
      "metadata": {
        "id": "5Wia-RaAXtJC"
      },
      "source": [
        "# choose a city and read in the data"
      ]
    },
    {
      "cell_type": "code",
      "metadata": {
        "id": "hmVzVH0dHwP1"
      },
      "source": [
        "#Choosing two cities to work with and reading the data. I choose Chicago and DC\n",
        "\n",
        "chicago = pd.read_csv(\"https://github.com/Urban-Informatics-Lab/Open-Data-Benchmarking/raw/master/Chicago/chi_final.csv\")\n",
        "DC = pd.read_csv(\"https://github.com/Urban-Informatics-Lab/Open-Data-Benchmarking/raw/master/DC/DC_final.csv\")\n"
      ],
      "execution_count": 129,
      "outputs": []
    },
    {
      "cell_type": "markdown",
      "metadata": {
        "id": "2U-1HZY2Xodw"
      },
      "source": [
        "# inspect the dataframe"
      ]
    },
    {
      "cell_type": "code",
      "source": [
        "print(\"For the city of Chicago, there are \", (chicago.shape), \" rows and columns respectively in the dataframe\")\n",
        "print(\"For the city of DC, there are \", (DC.shape), \"rows and columns respectively in the dataframe\")"
      ],
      "metadata": {
        "colab": {
          "base_uri": "https://localhost:8080/"
        },
        "id": "DRht35FE95Ar",
        "outputId": "52eeb974-98a9-40c5-fb99-707a603653d9"
      },
      "execution_count": 130,
      "outputs": [
        {
          "output_type": "stream",
          "name": "stdout",
          "text": [
            "For the city of Chicago, there are  (2688, 19)  rows and columns respectively in the dataframe\n",
            "For the city of DC, there are  (1455, 23) rows and columns respectively in the dataframe\n"
          ]
        }
      ]
    },
    {
      "cell_type": "code",
      "metadata": {
        "id": "aqrv8eULHxte",
        "outputId": "f8a6e367-423d-4b49-bd7b-09a4a154acb8",
        "colab": {
          "base_uri": "https://localhost:8080/",
          "height": 364
        }
      },
      "source": [
        "chicago.describe()"
      ],
      "execution_count": 131,
      "outputs": [
        {
          "output_type": "execute_result",
          "data": {
            "text/plain": [
              "        Unnamed: 0             ID  Gross.Floor.Area...Buildings..sq.ft.  \\\n",
              "count  2688.000000    2688.000000                          2.688000e+03   \n",
              "mean   1344.500000  184502.570312                          2.448678e+05   \n",
              "std     776.103086   59873.199256                          3.964045e+05   \n",
              "min       1.000000  100001.000000                          5.000000e+04   \n",
              "25%     672.750000  120464.000000                          7.500000e+04   \n",
              "50%    1344.500000  173712.500000                          1.237265e+05   \n",
              "75%    2016.250000  251356.500000                          2.521352e+05   \n",
              "max    2688.000000  260184.000000                          9.245333e+06   \n",
              "\n",
              "        Year.Built  X..of.Buildings  ENERGY.STAR.Score  \\\n",
              "count  2688.000000      2688.000000        2688.000000   \n",
              "mean   1962.942336         1.405878          57.507812   \n",
              "std      36.294735         5.201993          29.352026   \n",
              "min    1872.000000         1.000000           1.000000   \n",
              "25%    1928.000000         1.000000          34.000000   \n",
              "50%    1969.000000         1.000000          62.000000   \n",
              "75%    1997.000000         1.000000          83.000000   \n",
              "max    2016.000000       236.000000         100.000000   \n",
              "\n",
              "       Electricity.Use..kBtu.  Natural.Gas.Use..kBtu.  Site.EUI..kBtu.sq.ft.  \\\n",
              "count            2.688000e+03            2.688000e+03            2688.000000   \n",
              "mean             1.076602e+07            1.172915e+07              94.208408   \n",
              "std              2.495836e+07            2.722341e+07             125.939184   \n",
              "min              5.028900e+03            1.284000e+03               0.200000   \n",
              "25%              1.947257e+06            3.182139e+06              61.800000   \n",
              "50%              4.024877e+06            5.561839e+06              79.400000   \n",
              "75%              9.702889e+06            1.168477e+07             101.050000   \n",
              "max              4.857050e+08            5.493302e+08            5637.700000   \n",
              "\n",
              "       Source.EUI..kBtu.sq.ft.  Weather.Normalized.Site.EUI..kBtu.sq.ft.  \\\n",
              "count              2688.000000                               2658.000000   \n",
              "mean                180.017820                                 99.133296   \n",
              "std                 166.056539                                127.267249   \n",
              "min                   0.200000                                  0.300000   \n",
              "25%                 113.875000                                 65.400000   \n",
              "50%                 148.100000                                 84.400000   \n",
              "75%                 196.575000                                107.275000   \n",
              "max                6001.500000                               5637.700000   \n",
              "\n",
              "       Weather.Normalized.Source.EUI..kBtu.sq.ft.  \\\n",
              "count                                 2658.000000   \n",
              "mean                                   184.965500   \n",
              "std                                    166.420203   \n",
              "min                                      0.300000   \n",
              "25%                                    118.625000   \n",
              "50%                                    154.050000   \n",
              "75%                                    201.575000   \n",
              "max                                   6001.500000   \n",
              "\n",
              "       Total.GHG.Emissions..Metric.Tons.CO2e.  GHG.Intensity..kg.CO2e.sq.ft.  \\\n",
              "count                             2673.000000                    2673.000000   \n",
              "mean                              2630.786495                      10.103629   \n",
              "std                               5794.436792                       9.002384   \n",
              "min                                 32.500000                       0.400000   \n",
              "25%                                602.100000                       6.300000   \n",
              "50%                               1099.500000                       8.300000   \n",
              "75%                               2435.700000                      11.100000   \n",
              "max                             127610.000000                     304.600000   \n",
              "\n",
              "       total_site_energy_KBTU  log_total_site_energy_KBTU  \n",
              "count            2.688000e+03                 2688.000000  \n",
              "mean             2.298315e+07                   16.304023  \n",
              "std              4.971672e+07                    1.015335  \n",
              "min              1.580000e+04                    9.667765  \n",
              "25%              5.838643e+06                   15.580009  \n",
              "50%              1.049675e+07                   16.166576  \n",
              "75%              2.202188e+07                   16.907547  \n",
              "max              1.155374e+09                   20.867690  "
            ],
            "text/html": [
              "\n",
              "  <div id=\"df-e94a2d26-a30d-4ee3-a002-2080a7c96298\">\n",
              "    <div class=\"colab-df-container\">\n",
              "      <div>\n",
              "<style scoped>\n",
              "    .dataframe tbody tr th:only-of-type {\n",
              "        vertical-align: middle;\n",
              "    }\n",
              "\n",
              "    .dataframe tbody tr th {\n",
              "        vertical-align: top;\n",
              "    }\n",
              "\n",
              "    .dataframe thead th {\n",
              "        text-align: right;\n",
              "    }\n",
              "</style>\n",
              "<table border=\"1\" class=\"dataframe\">\n",
              "  <thead>\n",
              "    <tr style=\"text-align: right;\">\n",
              "      <th></th>\n",
              "      <th>Unnamed: 0</th>\n",
              "      <th>ID</th>\n",
              "      <th>Gross.Floor.Area...Buildings..sq.ft.</th>\n",
              "      <th>Year.Built</th>\n",
              "      <th>X..of.Buildings</th>\n",
              "      <th>ENERGY.STAR.Score</th>\n",
              "      <th>Electricity.Use..kBtu.</th>\n",
              "      <th>Natural.Gas.Use..kBtu.</th>\n",
              "      <th>Site.EUI..kBtu.sq.ft.</th>\n",
              "      <th>Source.EUI..kBtu.sq.ft.</th>\n",
              "      <th>Weather.Normalized.Site.EUI..kBtu.sq.ft.</th>\n",
              "      <th>Weather.Normalized.Source.EUI..kBtu.sq.ft.</th>\n",
              "      <th>Total.GHG.Emissions..Metric.Tons.CO2e.</th>\n",
              "      <th>GHG.Intensity..kg.CO2e.sq.ft.</th>\n",
              "      <th>total_site_energy_KBTU</th>\n",
              "      <th>log_total_site_energy_KBTU</th>\n",
              "    </tr>\n",
              "  </thead>\n",
              "  <tbody>\n",
              "    <tr>\n",
              "      <th>count</th>\n",
              "      <td>2688.000000</td>\n",
              "      <td>2688.000000</td>\n",
              "      <td>2.688000e+03</td>\n",
              "      <td>2688.000000</td>\n",
              "      <td>2688.000000</td>\n",
              "      <td>2688.000000</td>\n",
              "      <td>2.688000e+03</td>\n",
              "      <td>2.688000e+03</td>\n",
              "      <td>2688.000000</td>\n",
              "      <td>2688.000000</td>\n",
              "      <td>2658.000000</td>\n",
              "      <td>2658.000000</td>\n",
              "      <td>2673.000000</td>\n",
              "      <td>2673.000000</td>\n",
              "      <td>2.688000e+03</td>\n",
              "      <td>2688.000000</td>\n",
              "    </tr>\n",
              "    <tr>\n",
              "      <th>mean</th>\n",
              "      <td>1344.500000</td>\n",
              "      <td>184502.570312</td>\n",
              "      <td>2.448678e+05</td>\n",
              "      <td>1962.942336</td>\n",
              "      <td>1.405878</td>\n",
              "      <td>57.507812</td>\n",
              "      <td>1.076602e+07</td>\n",
              "      <td>1.172915e+07</td>\n",
              "      <td>94.208408</td>\n",
              "      <td>180.017820</td>\n",
              "      <td>99.133296</td>\n",
              "      <td>184.965500</td>\n",
              "      <td>2630.786495</td>\n",
              "      <td>10.103629</td>\n",
              "      <td>2.298315e+07</td>\n",
              "      <td>16.304023</td>\n",
              "    </tr>\n",
              "    <tr>\n",
              "      <th>std</th>\n",
              "      <td>776.103086</td>\n",
              "      <td>59873.199256</td>\n",
              "      <td>3.964045e+05</td>\n",
              "      <td>36.294735</td>\n",
              "      <td>5.201993</td>\n",
              "      <td>29.352026</td>\n",
              "      <td>2.495836e+07</td>\n",
              "      <td>2.722341e+07</td>\n",
              "      <td>125.939184</td>\n",
              "      <td>166.056539</td>\n",
              "      <td>127.267249</td>\n",
              "      <td>166.420203</td>\n",
              "      <td>5794.436792</td>\n",
              "      <td>9.002384</td>\n",
              "      <td>4.971672e+07</td>\n",
              "      <td>1.015335</td>\n",
              "    </tr>\n",
              "    <tr>\n",
              "      <th>min</th>\n",
              "      <td>1.000000</td>\n",
              "      <td>100001.000000</td>\n",
              "      <td>5.000000e+04</td>\n",
              "      <td>1872.000000</td>\n",
              "      <td>1.000000</td>\n",
              "      <td>1.000000</td>\n",
              "      <td>5.028900e+03</td>\n",
              "      <td>1.284000e+03</td>\n",
              "      <td>0.200000</td>\n",
              "      <td>0.200000</td>\n",
              "      <td>0.300000</td>\n",
              "      <td>0.300000</td>\n",
              "      <td>32.500000</td>\n",
              "      <td>0.400000</td>\n",
              "      <td>1.580000e+04</td>\n",
              "      <td>9.667765</td>\n",
              "    </tr>\n",
              "    <tr>\n",
              "      <th>25%</th>\n",
              "      <td>672.750000</td>\n",
              "      <td>120464.000000</td>\n",
              "      <td>7.500000e+04</td>\n",
              "      <td>1928.000000</td>\n",
              "      <td>1.000000</td>\n",
              "      <td>34.000000</td>\n",
              "      <td>1.947257e+06</td>\n",
              "      <td>3.182139e+06</td>\n",
              "      <td>61.800000</td>\n",
              "      <td>113.875000</td>\n",
              "      <td>65.400000</td>\n",
              "      <td>118.625000</td>\n",
              "      <td>602.100000</td>\n",
              "      <td>6.300000</td>\n",
              "      <td>5.838643e+06</td>\n",
              "      <td>15.580009</td>\n",
              "    </tr>\n",
              "    <tr>\n",
              "      <th>50%</th>\n",
              "      <td>1344.500000</td>\n",
              "      <td>173712.500000</td>\n",
              "      <td>1.237265e+05</td>\n",
              "      <td>1969.000000</td>\n",
              "      <td>1.000000</td>\n",
              "      <td>62.000000</td>\n",
              "      <td>4.024877e+06</td>\n",
              "      <td>5.561839e+06</td>\n",
              "      <td>79.400000</td>\n",
              "      <td>148.100000</td>\n",
              "      <td>84.400000</td>\n",
              "      <td>154.050000</td>\n",
              "      <td>1099.500000</td>\n",
              "      <td>8.300000</td>\n",
              "      <td>1.049675e+07</td>\n",
              "      <td>16.166576</td>\n",
              "    </tr>\n",
              "    <tr>\n",
              "      <th>75%</th>\n",
              "      <td>2016.250000</td>\n",
              "      <td>251356.500000</td>\n",
              "      <td>2.521352e+05</td>\n",
              "      <td>1997.000000</td>\n",
              "      <td>1.000000</td>\n",
              "      <td>83.000000</td>\n",
              "      <td>9.702889e+06</td>\n",
              "      <td>1.168477e+07</td>\n",
              "      <td>101.050000</td>\n",
              "      <td>196.575000</td>\n",
              "      <td>107.275000</td>\n",
              "      <td>201.575000</td>\n",
              "      <td>2435.700000</td>\n",
              "      <td>11.100000</td>\n",
              "      <td>2.202188e+07</td>\n",
              "      <td>16.907547</td>\n",
              "    </tr>\n",
              "    <tr>\n",
              "      <th>max</th>\n",
              "      <td>2688.000000</td>\n",
              "      <td>260184.000000</td>\n",
              "      <td>9.245333e+06</td>\n",
              "      <td>2016.000000</td>\n",
              "      <td>236.000000</td>\n",
              "      <td>100.000000</td>\n",
              "      <td>4.857050e+08</td>\n",
              "      <td>5.493302e+08</td>\n",
              "      <td>5637.700000</td>\n",
              "      <td>6001.500000</td>\n",
              "      <td>5637.700000</td>\n",
              "      <td>6001.500000</td>\n",
              "      <td>127610.000000</td>\n",
              "      <td>304.600000</td>\n",
              "      <td>1.155374e+09</td>\n",
              "      <td>20.867690</td>\n",
              "    </tr>\n",
              "  </tbody>\n",
              "</table>\n",
              "</div>\n",
              "      <button class=\"colab-df-convert\" onclick=\"convertToInteractive('df-e94a2d26-a30d-4ee3-a002-2080a7c96298')\"\n",
              "              title=\"Convert this dataframe to an interactive table.\"\n",
              "              style=\"display:none;\">\n",
              "        \n",
              "  <svg xmlns=\"http://www.w3.org/2000/svg\" height=\"24px\"viewBox=\"0 0 24 24\"\n",
              "       width=\"24px\">\n",
              "    <path d=\"M0 0h24v24H0V0z\" fill=\"none\"/>\n",
              "    <path d=\"M18.56 5.44l.94 2.06.94-2.06 2.06-.94-2.06-.94-.94-2.06-.94 2.06-2.06.94zm-11 1L8.5 8.5l.94-2.06 2.06-.94-2.06-.94L8.5 2.5l-.94 2.06-2.06.94zm10 10l.94 2.06.94-2.06 2.06-.94-2.06-.94-.94-2.06-.94 2.06-2.06.94z\"/><path d=\"M17.41 7.96l-1.37-1.37c-.4-.4-.92-.59-1.43-.59-.52 0-1.04.2-1.43.59L10.3 9.45l-7.72 7.72c-.78.78-.78 2.05 0 2.83L4 21.41c.39.39.9.59 1.41.59.51 0 1.02-.2 1.41-.59l7.78-7.78 2.81-2.81c.8-.78.8-2.07 0-2.86zM5.41 20L4 18.59l7.72-7.72 1.47 1.35L5.41 20z\"/>\n",
              "  </svg>\n",
              "      </button>\n",
              "      \n",
              "  <style>\n",
              "    .colab-df-container {\n",
              "      display:flex;\n",
              "      flex-wrap:wrap;\n",
              "      gap: 12px;\n",
              "    }\n",
              "\n",
              "    .colab-df-convert {\n",
              "      background-color: #E8F0FE;\n",
              "      border: none;\n",
              "      border-radius: 50%;\n",
              "      cursor: pointer;\n",
              "      display: none;\n",
              "      fill: #1967D2;\n",
              "      height: 32px;\n",
              "      padding: 0 0 0 0;\n",
              "      width: 32px;\n",
              "    }\n",
              "\n",
              "    .colab-df-convert:hover {\n",
              "      background-color: #E2EBFA;\n",
              "      box-shadow: 0px 1px 2px rgba(60, 64, 67, 0.3), 0px 1px 3px 1px rgba(60, 64, 67, 0.15);\n",
              "      fill: #174EA6;\n",
              "    }\n",
              "\n",
              "    [theme=dark] .colab-df-convert {\n",
              "      background-color: #3B4455;\n",
              "      fill: #D2E3FC;\n",
              "    }\n",
              "\n",
              "    [theme=dark] .colab-df-convert:hover {\n",
              "      background-color: #434B5C;\n",
              "      box-shadow: 0px 1px 3px 1px rgba(0, 0, 0, 0.15);\n",
              "      filter: drop-shadow(0px 1px 2px rgba(0, 0, 0, 0.3));\n",
              "      fill: #FFFFFF;\n",
              "    }\n",
              "  </style>\n",
              "\n",
              "      <script>\n",
              "        const buttonEl =\n",
              "          document.querySelector('#df-e94a2d26-a30d-4ee3-a002-2080a7c96298 button.colab-df-convert');\n",
              "        buttonEl.style.display =\n",
              "          google.colab.kernel.accessAllowed ? 'block' : 'none';\n",
              "\n",
              "        async function convertToInteractive(key) {\n",
              "          const element = document.querySelector('#df-e94a2d26-a30d-4ee3-a002-2080a7c96298');\n",
              "          const dataTable =\n",
              "            await google.colab.kernel.invokeFunction('convertToInteractive',\n",
              "                                                     [key], {});\n",
              "          if (!dataTable) return;\n",
              "\n",
              "          const docLinkHtml = 'Like what you see? Visit the ' +\n",
              "            '<a target=\"_blank\" href=https://colab.research.google.com/notebooks/data_table.ipynb>data table notebook</a>'\n",
              "            + ' to learn more about interactive tables.';\n",
              "          element.innerHTML = '';\n",
              "          dataTable['output_type'] = 'display_data';\n",
              "          await google.colab.output.renderOutput(dataTable, element);\n",
              "          const docLink = document.createElement('div');\n",
              "          docLink.innerHTML = docLinkHtml;\n",
              "          element.appendChild(docLink);\n",
              "        }\n",
              "      </script>\n",
              "    </div>\n",
              "  </div>\n",
              "  "
            ]
          },
          "metadata": {},
          "execution_count": 131
        }
      ]
    },
    {
      "cell_type": "code",
      "source": [
        "DC.describe()"
      ],
      "metadata": {
        "id": "rSPo16mYoN9m",
        "outputId": "f4d509d6-2c98-44e9-c988-05ecb7b770da",
        "colab": {
          "base_uri": "https://localhost:8080/",
          "height": 364
        }
      },
      "execution_count": 132,
      "outputs": [
        {
          "output_type": "execute_result",
          "data": {
            "text/plain": [
              "        Unnamed: 0         ward   year_built  tax_record_floor_area  \\\n",
              "count  1455.000000  1455.000000  1455.000000           1.455000e+03   \n",
              "mean    793.997938     3.472852  1940.804811           2.046748e+05   \n",
              "std     469.582655     2.047691   167.230361           2.451302e+05   \n",
              "min       1.000000     1.000000  1000.000000           9.171000e+03   \n",
              "25%     380.500000     2.000000  1947.000000           7.164000e+04   \n",
              "50%     794.000000     2.000000  1971.000000           1.287720e+05   \n",
              "75%    1176.500000     5.000000  1994.000000           2.585310e+05   \n",
              "max    2181.000000     8.000000  2017.000000           3.997572e+06   \n",
              "\n",
              "       reported_gross_floor_area     water_use  electricity_use  \\\n",
              "count               1.455000e+03  1.455000e+03     1.441000e+03   \n",
              "mean                1.897612e+05  5.109905e+04     2.760114e+06   \n",
              "std                 2.436786e+05  6.163321e+05     4.599984e+06   \n",
              "min                 9.171000e+03  0.000000e+00     1.785000e+02   \n",
              "25%                 7.111750e+04  1.958050e+03     7.435930e+05   \n",
              "50%                 1.215530e+05  4.063800e+03     1.612028e+06   \n",
              "75%                 2.372130e+05  7.008700e+03     3.386553e+06   \n",
              "max                 5.634890e+06  1.929391e+07     1.207430e+08   \n",
              "\n",
              "       natural_gas_use  energy_star_score     site_eui  weather_norm_site_eui  \\\n",
              "count     1.054000e+03        1184.000000  1455.000000            1393.000000   \n",
              "mean      5.853217e+04          62.090372    69.960206              70.745154   \n",
              "std       2.617060e+05          26.792483    30.676317              31.476591   \n",
              "min       0.000000e+00           1.000000     1.100000               1.100000   \n",
              "25%       1.121760e+04          43.750000    51.600000              51.900000   \n",
              "50%       2.770698e+04          70.000000    65.900000              66.600000   \n",
              "75%       5.154631e+04          84.000000    82.850000              84.500000   \n",
              "max       7.269109e+06         100.000000   213.600000             215.500000   \n",
              "\n",
              "        source_eui  weather_norm_source_eui  total_ghg_emissions  \\\n",
              "count  1455.000000              1393.000000          1454.000000   \n",
              "mean    171.274433               171.302872          1318.734388   \n",
              "std      76.707287                76.884877          2458.471157   \n",
              "min       1.200000                 1.200000             3.100000   \n",
              "25%     121.850000               121.600000           400.450000   \n",
              "50%     163.300000               163.400000           757.100000   \n",
              "75%     206.450000               207.400000          1534.450000   \n",
              "max     618.600000               620.600000         64992.500000   \n",
              "\n",
              "       total_ghg_emissions_intensity  total_site_energy_KBTU  \\\n",
              "count                    1454.000000            1.455000e+03   \n",
              "mean                        6.674278            1.344870e+07   \n",
              "std                         3.143349            2.843799e+07   \n",
              "min                         0.100000            5.729350e+04   \n",
              "25%                         4.800000            4.513227e+06   \n",
              "50%                         6.300000            8.156027e+06   \n",
              "75%                         7.800000            1.565570e+07   \n",
              "max                        30.600000            7.832497e+08   \n",
              "\n",
              "       log_total_site_energy_KBTU  \n",
              "count                 1455.000000  \n",
              "mean                    15.905810  \n",
              "std                      0.991320  \n",
              "min                     10.955942  \n",
              "25%                     15.322523  \n",
              "50%                     15.914268  \n",
              "75%                     16.566343  \n",
              "max                     20.478962  "
            ],
            "text/html": [
              "\n",
              "  <div id=\"df-e73d8816-a491-40a9-bf7f-d8d3ecc60bea\">\n",
              "    <div class=\"colab-df-container\">\n",
              "      <div>\n",
              "<style scoped>\n",
              "    .dataframe tbody tr th:only-of-type {\n",
              "        vertical-align: middle;\n",
              "    }\n",
              "\n",
              "    .dataframe tbody tr th {\n",
              "        vertical-align: top;\n",
              "    }\n",
              "\n",
              "    .dataframe thead th {\n",
              "        text-align: right;\n",
              "    }\n",
              "</style>\n",
              "<table border=\"1\" class=\"dataframe\">\n",
              "  <thead>\n",
              "    <tr style=\"text-align: right;\">\n",
              "      <th></th>\n",
              "      <th>Unnamed: 0</th>\n",
              "      <th>ward</th>\n",
              "      <th>year_built</th>\n",
              "      <th>tax_record_floor_area</th>\n",
              "      <th>reported_gross_floor_area</th>\n",
              "      <th>water_use</th>\n",
              "      <th>electricity_use</th>\n",
              "      <th>natural_gas_use</th>\n",
              "      <th>energy_star_score</th>\n",
              "      <th>site_eui</th>\n",
              "      <th>weather_norm_site_eui</th>\n",
              "      <th>source_eui</th>\n",
              "      <th>weather_norm_source_eui</th>\n",
              "      <th>total_ghg_emissions</th>\n",
              "      <th>total_ghg_emissions_intensity</th>\n",
              "      <th>total_site_energy_KBTU</th>\n",
              "      <th>log_total_site_energy_KBTU</th>\n",
              "    </tr>\n",
              "  </thead>\n",
              "  <tbody>\n",
              "    <tr>\n",
              "      <th>count</th>\n",
              "      <td>1455.000000</td>\n",
              "      <td>1455.000000</td>\n",
              "      <td>1455.000000</td>\n",
              "      <td>1.455000e+03</td>\n",
              "      <td>1.455000e+03</td>\n",
              "      <td>1.455000e+03</td>\n",
              "      <td>1.441000e+03</td>\n",
              "      <td>1.054000e+03</td>\n",
              "      <td>1184.000000</td>\n",
              "      <td>1455.000000</td>\n",
              "      <td>1393.000000</td>\n",
              "      <td>1455.000000</td>\n",
              "      <td>1393.000000</td>\n",
              "      <td>1454.000000</td>\n",
              "      <td>1454.000000</td>\n",
              "      <td>1.455000e+03</td>\n",
              "      <td>1455.000000</td>\n",
              "    </tr>\n",
              "    <tr>\n",
              "      <th>mean</th>\n",
              "      <td>793.997938</td>\n",
              "      <td>3.472852</td>\n",
              "      <td>1940.804811</td>\n",
              "      <td>2.046748e+05</td>\n",
              "      <td>1.897612e+05</td>\n",
              "      <td>5.109905e+04</td>\n",
              "      <td>2.760114e+06</td>\n",
              "      <td>5.853217e+04</td>\n",
              "      <td>62.090372</td>\n",
              "      <td>69.960206</td>\n",
              "      <td>70.745154</td>\n",
              "      <td>171.274433</td>\n",
              "      <td>171.302872</td>\n",
              "      <td>1318.734388</td>\n",
              "      <td>6.674278</td>\n",
              "      <td>1.344870e+07</td>\n",
              "      <td>15.905810</td>\n",
              "    </tr>\n",
              "    <tr>\n",
              "      <th>std</th>\n",
              "      <td>469.582655</td>\n",
              "      <td>2.047691</td>\n",
              "      <td>167.230361</td>\n",
              "      <td>2.451302e+05</td>\n",
              "      <td>2.436786e+05</td>\n",
              "      <td>6.163321e+05</td>\n",
              "      <td>4.599984e+06</td>\n",
              "      <td>2.617060e+05</td>\n",
              "      <td>26.792483</td>\n",
              "      <td>30.676317</td>\n",
              "      <td>31.476591</td>\n",
              "      <td>76.707287</td>\n",
              "      <td>76.884877</td>\n",
              "      <td>2458.471157</td>\n",
              "      <td>3.143349</td>\n",
              "      <td>2.843799e+07</td>\n",
              "      <td>0.991320</td>\n",
              "    </tr>\n",
              "    <tr>\n",
              "      <th>min</th>\n",
              "      <td>1.000000</td>\n",
              "      <td>1.000000</td>\n",
              "      <td>1000.000000</td>\n",
              "      <td>9.171000e+03</td>\n",
              "      <td>9.171000e+03</td>\n",
              "      <td>0.000000e+00</td>\n",
              "      <td>1.785000e+02</td>\n",
              "      <td>0.000000e+00</td>\n",
              "      <td>1.000000</td>\n",
              "      <td>1.100000</td>\n",
              "      <td>1.100000</td>\n",
              "      <td>1.200000</td>\n",
              "      <td>1.200000</td>\n",
              "      <td>3.100000</td>\n",
              "      <td>0.100000</td>\n",
              "      <td>5.729350e+04</td>\n",
              "      <td>10.955942</td>\n",
              "    </tr>\n",
              "    <tr>\n",
              "      <th>25%</th>\n",
              "      <td>380.500000</td>\n",
              "      <td>2.000000</td>\n",
              "      <td>1947.000000</td>\n",
              "      <td>7.164000e+04</td>\n",
              "      <td>7.111750e+04</td>\n",
              "      <td>1.958050e+03</td>\n",
              "      <td>7.435930e+05</td>\n",
              "      <td>1.121760e+04</td>\n",
              "      <td>43.750000</td>\n",
              "      <td>51.600000</td>\n",
              "      <td>51.900000</td>\n",
              "      <td>121.850000</td>\n",
              "      <td>121.600000</td>\n",
              "      <td>400.450000</td>\n",
              "      <td>4.800000</td>\n",
              "      <td>4.513227e+06</td>\n",
              "      <td>15.322523</td>\n",
              "    </tr>\n",
              "    <tr>\n",
              "      <th>50%</th>\n",
              "      <td>794.000000</td>\n",
              "      <td>2.000000</td>\n",
              "      <td>1971.000000</td>\n",
              "      <td>1.287720e+05</td>\n",
              "      <td>1.215530e+05</td>\n",
              "      <td>4.063800e+03</td>\n",
              "      <td>1.612028e+06</td>\n",
              "      <td>2.770698e+04</td>\n",
              "      <td>70.000000</td>\n",
              "      <td>65.900000</td>\n",
              "      <td>66.600000</td>\n",
              "      <td>163.300000</td>\n",
              "      <td>163.400000</td>\n",
              "      <td>757.100000</td>\n",
              "      <td>6.300000</td>\n",
              "      <td>8.156027e+06</td>\n",
              "      <td>15.914268</td>\n",
              "    </tr>\n",
              "    <tr>\n",
              "      <th>75%</th>\n",
              "      <td>1176.500000</td>\n",
              "      <td>5.000000</td>\n",
              "      <td>1994.000000</td>\n",
              "      <td>2.585310e+05</td>\n",
              "      <td>2.372130e+05</td>\n",
              "      <td>7.008700e+03</td>\n",
              "      <td>3.386553e+06</td>\n",
              "      <td>5.154631e+04</td>\n",
              "      <td>84.000000</td>\n",
              "      <td>82.850000</td>\n",
              "      <td>84.500000</td>\n",
              "      <td>206.450000</td>\n",
              "      <td>207.400000</td>\n",
              "      <td>1534.450000</td>\n",
              "      <td>7.800000</td>\n",
              "      <td>1.565570e+07</td>\n",
              "      <td>16.566343</td>\n",
              "    </tr>\n",
              "    <tr>\n",
              "      <th>max</th>\n",
              "      <td>2181.000000</td>\n",
              "      <td>8.000000</td>\n",
              "      <td>2017.000000</td>\n",
              "      <td>3.997572e+06</td>\n",
              "      <td>5.634890e+06</td>\n",
              "      <td>1.929391e+07</td>\n",
              "      <td>1.207430e+08</td>\n",
              "      <td>7.269109e+06</td>\n",
              "      <td>100.000000</td>\n",
              "      <td>213.600000</td>\n",
              "      <td>215.500000</td>\n",
              "      <td>618.600000</td>\n",
              "      <td>620.600000</td>\n",
              "      <td>64992.500000</td>\n",
              "      <td>30.600000</td>\n",
              "      <td>7.832497e+08</td>\n",
              "      <td>20.478962</td>\n",
              "    </tr>\n",
              "  </tbody>\n",
              "</table>\n",
              "</div>\n",
              "      <button class=\"colab-df-convert\" onclick=\"convertToInteractive('df-e73d8816-a491-40a9-bf7f-d8d3ecc60bea')\"\n",
              "              title=\"Convert this dataframe to an interactive table.\"\n",
              "              style=\"display:none;\">\n",
              "        \n",
              "  <svg xmlns=\"http://www.w3.org/2000/svg\" height=\"24px\"viewBox=\"0 0 24 24\"\n",
              "       width=\"24px\">\n",
              "    <path d=\"M0 0h24v24H0V0z\" fill=\"none\"/>\n",
              "    <path d=\"M18.56 5.44l.94 2.06.94-2.06 2.06-.94-2.06-.94-.94-2.06-.94 2.06-2.06.94zm-11 1L8.5 8.5l.94-2.06 2.06-.94-2.06-.94L8.5 2.5l-.94 2.06-2.06.94zm10 10l.94 2.06.94-2.06 2.06-.94-2.06-.94-.94-2.06-.94 2.06-2.06.94z\"/><path d=\"M17.41 7.96l-1.37-1.37c-.4-.4-.92-.59-1.43-.59-.52 0-1.04.2-1.43.59L10.3 9.45l-7.72 7.72c-.78.78-.78 2.05 0 2.83L4 21.41c.39.39.9.59 1.41.59.51 0 1.02-.2 1.41-.59l7.78-7.78 2.81-2.81c.8-.78.8-2.07 0-2.86zM5.41 20L4 18.59l7.72-7.72 1.47 1.35L5.41 20z\"/>\n",
              "  </svg>\n",
              "      </button>\n",
              "      \n",
              "  <style>\n",
              "    .colab-df-container {\n",
              "      display:flex;\n",
              "      flex-wrap:wrap;\n",
              "      gap: 12px;\n",
              "    }\n",
              "\n",
              "    .colab-df-convert {\n",
              "      background-color: #E8F0FE;\n",
              "      border: none;\n",
              "      border-radius: 50%;\n",
              "      cursor: pointer;\n",
              "      display: none;\n",
              "      fill: #1967D2;\n",
              "      height: 32px;\n",
              "      padding: 0 0 0 0;\n",
              "      width: 32px;\n",
              "    }\n",
              "\n",
              "    .colab-df-convert:hover {\n",
              "      background-color: #E2EBFA;\n",
              "      box-shadow: 0px 1px 2px rgba(60, 64, 67, 0.3), 0px 1px 3px 1px rgba(60, 64, 67, 0.15);\n",
              "      fill: #174EA6;\n",
              "    }\n",
              "\n",
              "    [theme=dark] .colab-df-convert {\n",
              "      background-color: #3B4455;\n",
              "      fill: #D2E3FC;\n",
              "    }\n",
              "\n",
              "    [theme=dark] .colab-df-convert:hover {\n",
              "      background-color: #434B5C;\n",
              "      box-shadow: 0px 1px 3px 1px rgba(0, 0, 0, 0.15);\n",
              "      filter: drop-shadow(0px 1px 2px rgba(0, 0, 0, 0.3));\n",
              "      fill: #FFFFFF;\n",
              "    }\n",
              "  </style>\n",
              "\n",
              "      <script>\n",
              "        const buttonEl =\n",
              "          document.querySelector('#df-e73d8816-a491-40a9-bf7f-d8d3ecc60bea button.colab-df-convert');\n",
              "        buttonEl.style.display =\n",
              "          google.colab.kernel.accessAllowed ? 'block' : 'none';\n",
              "\n",
              "        async function convertToInteractive(key) {\n",
              "          const element = document.querySelector('#df-e73d8816-a491-40a9-bf7f-d8d3ecc60bea');\n",
              "          const dataTable =\n",
              "            await google.colab.kernel.invokeFunction('convertToInteractive',\n",
              "                                                     [key], {});\n",
              "          if (!dataTable) return;\n",
              "\n",
              "          const docLinkHtml = 'Like what you see? Visit the ' +\n",
              "            '<a target=\"_blank\" href=https://colab.research.google.com/notebooks/data_table.ipynb>data table notebook</a>'\n",
              "            + ' to learn more about interactive tables.';\n",
              "          element.innerHTML = '';\n",
              "          dataTable['output_type'] = 'display_data';\n",
              "          await google.colab.output.renderOutput(dataTable, element);\n",
              "          const docLink = document.createElement('div');\n",
              "          docLink.innerHTML = docLinkHtml;\n",
              "          element.appendChild(docLink);\n",
              "        }\n",
              "      </script>\n",
              "    </div>\n",
              "  </div>\n",
              "  "
            ]
          },
          "metadata": {},
          "execution_count": 132
        }
      ]
    },
    {
      "cell_type": "markdown",
      "metadata": {
        "id": "t2N6DSrXXx5z"
      },
      "source": [
        "# TASK 1 Clean the data \n",
        "I followed closely the second paragraph of Section 4 DATA. Name each step you do accordingly to the description in the paragraf\n",
        "https://www.researchgate.net/publication/337074109_Examining_the_feasibility_of_using_open_data_to_benchmark_building_energy_usage_in_cities_A_data_science_and_policy_perspective \n",
        "\n"
      ]
    },
    {
      "cell_type": "code",
      "metadata": {
        "id": "k15rP8aaNXO7",
        "outputId": "56d1f972-b2b2-45da-b2e4-d8079eff9b2b",
        "colab": {
          "base_uri": "https://localhost:8080/"
        }
      },
      "source": [
        "# summarize the number of rows with missing values for each column\n",
        "\n",
        "  \n",
        "# chicago city\n",
        "for c in chicago.columns:  \n",
        "  n_miss = chicago[c].isnull().sum()\n",
        "  perc = n_miss / chicago.shape[0] * 100\n",
        "  print('%s (%s):  Missing: %d (%.1f%%)' % (c, chicago[c].dtype, \n",
        "                                                  n_miss, perc))\n",
        "  \n",
        "print(\"\\n\")  \n",
        "# DC\n",
        "for c in DC.columns:  \n",
        "  n_miss = DC[c].isnull().sum()\n",
        "  perc = n_miss / DC.shape[0] * 100\n",
        "  print('%s (%s):  Missing: %d (%.1f%%)' % (c, DC[c].dtype, \n",
        "                                                  n_miss, perc))\n",
        "  \n"
      ],
      "execution_count": 133,
      "outputs": [
        {
          "output_type": "stream",
          "name": "stdout",
          "text": [
            "Unnamed: 0 (int64):  Missing: 0 (0.0%)\n",
            "ID (int64):  Missing: 0 (0.0%)\n",
            "ZIP.Code (object):  Missing: 0 (0.0%)\n",
            "Community.Area (object):  Missing: 0 (0.0%)\n",
            "Primary.Property.Type (object):  Missing: 0 (0.0%)\n",
            "Gross.Floor.Area...Buildings..sq.ft. (float64):  Missing: 0 (0.0%)\n",
            "Year.Built (int64):  Missing: 0 (0.0%)\n",
            "X..of.Buildings (int64):  Missing: 0 (0.0%)\n",
            "ENERGY.STAR.Score (int64):  Missing: 0 (0.0%)\n",
            "Electricity.Use..kBtu. (float64):  Missing: 0 (0.0%)\n",
            "Natural.Gas.Use..kBtu. (float64):  Missing: 0 (0.0%)\n",
            "Site.EUI..kBtu.sq.ft. (float64):  Missing: 0 (0.0%)\n",
            "Source.EUI..kBtu.sq.ft. (float64):  Missing: 0 (0.0%)\n",
            "Weather.Normalized.Site.EUI..kBtu.sq.ft. (float64):  Missing: 30 (1.1%)\n",
            "Weather.Normalized.Source.EUI..kBtu.sq.ft. (float64):  Missing: 30 (1.1%)\n",
            "Total.GHG.Emissions..Metric.Tons.CO2e. (float64):  Missing: 15 (0.6%)\n",
            "GHG.Intensity..kg.CO2e.sq.ft. (float64):  Missing: 15 (0.6%)\n",
            "total_site_energy_KBTU (float64):  Missing: 0 (0.0%)\n",
            "log_total_site_energy_KBTU (float64):  Missing: 0 (0.0%)\n",
            "\n",
            "\n",
            "Unnamed: 0 (int64):  Missing: 0 (0.0%)\n",
            "report_status (object):  Missing: 0 (0.0%)\n",
            "ward (int64):  Missing: 0 (0.0%)\n",
            "postal_code (object):  Missing: 0 (0.0%)\n",
            "year_built (int64):  Missing: 0 (0.0%)\n",
            "primary_ptype_self (object):  Missing: 0 (0.0%)\n",
            "primary_ptype_epa (object):  Missing: 0 (0.0%)\n",
            "tax_record_floor_area (float64):  Missing: 0 (0.0%)\n",
            "reported_gross_floor_area (float64):  Missing: 0 (0.0%)\n",
            "water_use (float64):  Missing: 0 (0.0%)\n",
            "metered_areas_energy (object):  Missing: 0 (0.0%)\n",
            "metered_areas_water (object):  Missing: 0 (0.0%)\n",
            "electricity_use (float64):  Missing: 14 (1.0%)\n",
            "natural_gas_use (float64):  Missing: 401 (27.6%)\n",
            "energy_star_score (float64):  Missing: 271 (18.6%)\n",
            "site_eui (float64):  Missing: 0 (0.0%)\n",
            "weather_norm_site_eui (float64):  Missing: 62 (4.3%)\n",
            "source_eui (float64):  Missing: 0 (0.0%)\n",
            "weather_norm_source_eui (float64):  Missing: 62 (4.3%)\n",
            "total_ghg_emissions (float64):  Missing: 1 (0.1%)\n",
            "total_ghg_emissions_intensity (float64):  Missing: 1 (0.1%)\n",
            "total_site_energy_KBTU (float64):  Missing: 0 (0.0%)\n",
            "log_total_site_energy_KBTU (float64):  Missing: 0 (0.0%)\n"
          ]
        }
      ]
    },
    {
      "cell_type": "code",
      "source": [
        "'''\n",
        "import pandas as pd\n",
        "\n",
        "dc = pd.read_csv(\"https://github.com/Urban-Informatics-Lab/Open-Data-Benchmarking/raw/master/DC/DC_final.csv\")\n",
        "\n",
        "columns = [\"report_status\",\"ward\",\"postal_code\",\"year_built\",\"primary_ptype_self\",\"primary_ptype_epa\",\"tax_record_floor_area\",\"reported_gross_floor_area\",\"water_use\",\"metered_areas_energy\",\"metered_areas_water\"]\n",
        "dc[columns]\n",
        "y_DC=DC['log_total_site_energy_KBTU']\n",
        "\n",
        "\n",
        "chicago_features=c(\"num_buildings\",\"year_built\",\"property_type_primary_epa\",\"floor_area_total_SF\",\"h2o_use_allsources_KGAL\",\"SALE_PR\",\"SALE_TY\",\"MV\",\"TX_LND\",\"TX_BLDG\",\"XMPT_LND\",\"XMPT_BLDG\",\"CAT_CD\",\"ZONE\",\"FRT\",\"DPT\",\"TOT_AREA\",\"TOP\",\"GRG_TYP\",\"GRG_SP\",\"OFF_ST\",\"VIEW_\",\"STORIES\",\"EXT_COND\",\"NO_RM\",\"NO_BD\",\"NO_BATH\",\"BASMT_SQFT\",\"FIRE\",\"INT_COND\",\"TOT_LIV_AREA\")\n",
        "chicago_outputs=c(\"electricity_use_KBTU\",\"energy_star_score\",\"site_eui_KBTUSF\",\"source_eui_KBTUSF\",\"total_ghg_emissions_MTCO2e\",\"total_site_energy_KBTU\",\"log_total_site_energy_KBTU\")\n",
        "#split into features and outputs\n",
        "'''"
      ],
      "metadata": {
        "id": "GeJ4U-4yoFhh",
        "colab": {
          "base_uri": "https://localhost:8080/",
          "height": 122
        },
        "outputId": "c794dd72-bd60-44cd-fde8-8f023a47255b"
      },
      "execution_count": 134,
      "outputs": [
        {
          "output_type": "execute_result",
          "data": {
            "text/plain": [
              "'\\nimport pandas as pd\\n\\ndc = pd.read_csv(\"https://github.com/Urban-Informatics-Lab/Open-Data-Benchmarking/raw/master/DC/DC_final.csv\")\\n\\ncolumns = [\"report_status\",\"ward\",\"postal_code\",\"year_built\",\"primary_ptype_self\",\"primary_ptype_epa\",\"tax_record_floor_area\",\"reported_gross_floor_area\",\"water_use\",\"metered_areas_energy\",\"metered_areas_water\"]\\ndc[columns]\\ny_DC=DC[\\'log_total_site_energy_KBTU\\']\\n\\n\\nchicago_features=c(\"num_buildings\",\"year_built\",\"property_type_primary_epa\",\"floor_area_total_SF\",\"h2o_use_allsources_KGAL\",\"SALE_PR\",\"SALE_TY\",\"MV\",\"TX_LND\",\"TX_BLDG\",\"XMPT_LND\",\"XMPT_BLDG\",\"CAT_CD\",\"ZONE\",\"FRT\",\"DPT\",\"TOT_AREA\",\"TOP\",\"GRG_TYP\",\"GRG_SP\",\"OFF_ST\",\"VIEW_\",\"STORIES\",\"EXT_COND\",\"NO_RM\",\"NO_BD\",\"NO_BATH\",\"BASMT_SQFT\",\"FIRE\",\"INT_COND\",\"TOT_LIV_AREA\")\\nchicago_outputs=c(\"electricity_use_KBTU\",\"energy_star_score\",\"site_eui_KBTUSF\",\"source_eui_KBTUSF\",\"total_ghg_emissions_MTCO2e\",\"total_site_energy_KBTU\",\"log_total_site_energy_KBTU\")\\n#split into features and outputs\\n'"
            ],
            "application/vnd.google.colaboratory.intrinsic+json": {
              "type": "string"
            }
          },
          "metadata": {},
          "execution_count": 134
        }
      ]
    },
    {
      "cell_type": "code",
      "source": [
        "for c in chicago.columns:\n",
        "  n_miss = chicago[c].isnull().sum()\n",
        "  perc = n_miss / chicago.shape[0] * 100\n",
        "  if perc > 40:\n",
        "    chicago.drop(c, axis=1, inplace=True)\n",
        "chicago = chicago[[\"Primary.Property.Type\",\"Gross.Floor.Area...Buildings..sq.ft.\",\n",
        "                   \"Year.Built\", \"X..of.Buildings\",'log_total_site_energy_KBTU']]\n",
        "print(\"For the city of Chicago, there are \", (chicago.shape), \" rows and columns respectively in the dataframe\")\n",
        "\n",
        "\n",
        "for c in DC.columns:\n",
        "  # count number of rows with missing values\n",
        "  n_miss = DC[c].isnull().sum()\n",
        "  perc = n_miss / DC.shape[0] * 100\n",
        "  if perc > 40:\n",
        "    DC.drop(c, axis=1, inplace=True)\n",
        "# add anything else you want to do \n",
        "# our decisions and codes may differe here so if your results is not exactly like mine that is ok\n",
        "# replace ... with your code\n",
        "# dropping unnecessary identification columns\n",
        "DC = DC[[\"report_status\",\"ward\",\"postal_code\",\"year_built\",\"primary_ptype_self\",\n",
        "          \"primary_ptype_epa\",\"tax_record_floor_area\",\"reported_gross_floor_area\",\n",
        "          \"water_use\",\"metered_areas_energy\",\"metered_areas_water\", 'log_total_site_energy_KBTU']]\n",
        "print(\"For the city of DC, there are \", (DC.shape), \"rows and columns respectively in the dataframe\")\n",
        "\n"
      ],
      "metadata": {
        "colab": {
          "base_uri": "https://localhost:8080/"
        },
        "id": "SPWnfbcJC9v0",
        "outputId": "34bf21a8-54ff-4767-a76a-54ccd1c8c65e"
      },
      "execution_count": 135,
      "outputs": [
        {
          "output_type": "stream",
          "name": "stdout",
          "text": [
            "For the city of Chicago, there are  (2688, 5)  rows and columns respectively in the dataframe\n",
            "For the city of DC, there are  (1455, 12) rows and columns respectively in the dataframe\n"
          ]
        }
      ]
    },
    {
      "cell_type": "markdown",
      "metadata": {
        "id": "XVD2IKLsZI2x"
      },
      "source": [
        "# TASK 2: transform input feature as needed\n",
        "for example replace features with log features. Guide yourself with the text, the final dataset names, and also the code here https://github.com/Urban-Informatics-Lab/Open-Data-Benchmarking/blob/master/Lasso_RandomForest.Rmd"
      ]
    },
    {
      "cell_type": "code",
      "source": [
        "for c in chicago.columns:\n",
        "  \n",
        "  # count number of rows with missing values\n",
        "  n_miss = chicago[c].isnull().sum()\n",
        "  perc = n_miss / chicago.shape[0] * 100\n",
        "  print('%s (%s):  Missing: %d (%.1f%%)' % (c, chicago[c].dtype, \n",
        "                                                  n_miss, perc))\n",
        "  \n",
        "\n",
        "for c in DC.columns:\n",
        "  \n",
        "  # count number of rows with missing values\n",
        "  n_miss = DC[c].isnull().sum()\n",
        "  perc = n_miss / DC.shape[0] * 100\n",
        "  print('%s (%s):  Missing: %d (%.1f%%)' % (c, DC[c].dtype, \n",
        "                                                  n_miss, perc))\n",
        "  \n"
      ],
      "metadata": {
        "id": "HvVu9GU52U5m",
        "outputId": "5bd2432e-7230-4dcd-d0d7-9a79b644f268",
        "colab": {
          "base_uri": "https://localhost:8080/"
        }
      },
      "execution_count": 136,
      "outputs": [
        {
          "output_type": "stream",
          "name": "stdout",
          "text": [
            "Primary.Property.Type (object):  Missing: 0 (0.0%)\n",
            "Gross.Floor.Area...Buildings..sq.ft. (float64):  Missing: 0 (0.0%)\n",
            "Year.Built (int64):  Missing: 0 (0.0%)\n",
            "X..of.Buildings (int64):  Missing: 0 (0.0%)\n",
            "log_total_site_energy_KBTU (float64):  Missing: 0 (0.0%)\n",
            "report_status (object):  Missing: 0 (0.0%)\n",
            "ward (int64):  Missing: 0 (0.0%)\n",
            "postal_code (object):  Missing: 0 (0.0%)\n",
            "year_built (int64):  Missing: 0 (0.0%)\n",
            "primary_ptype_self (object):  Missing: 0 (0.0%)\n",
            "primary_ptype_epa (object):  Missing: 0 (0.0%)\n",
            "tax_record_floor_area (float64):  Missing: 0 (0.0%)\n",
            "reported_gross_floor_area (float64):  Missing: 0 (0.0%)\n",
            "water_use (float64):  Missing: 0 (0.0%)\n",
            "metered_areas_energy (object):  Missing: 0 (0.0%)\n",
            "metered_areas_water (object):  Missing: 0 (0.0%)\n",
            "log_total_site_energy_KBTU (float64):  Missing: 0 (0.0%)\n"
          ]
        }
      ]
    },
    {
      "cell_type": "code",
      "metadata": {
        "id": "SWyHLyhCLYIm",
        "outputId": "754824f3-63e4-459e-8c60-91adf6d65ad7",
        "colab": {
          "base_uri": "https://localhost:8080/",
          "height": 300
        }
      },
      "source": [
        "#what should you look at in the result below?\n",
        "chicago.describe()\n",
        "\n",
        "#Here we look at the overall description of chicago data after the cleanining process"
      ],
      "execution_count": 137,
      "outputs": [
        {
          "output_type": "execute_result",
          "data": {
            "text/plain": [
              "       Gross.Floor.Area...Buildings..sq.ft.   Year.Built  X..of.Buildings  \\\n",
              "count                          2.688000e+03  2688.000000      2688.000000   \n",
              "mean                           2.448678e+05  1962.942336         1.405878   \n",
              "std                            3.964045e+05    36.294735         5.201993   \n",
              "min                            5.000000e+04  1872.000000         1.000000   \n",
              "25%                            7.500000e+04  1928.000000         1.000000   \n",
              "50%                            1.237265e+05  1969.000000         1.000000   \n",
              "75%                            2.521352e+05  1997.000000         1.000000   \n",
              "max                            9.245333e+06  2016.000000       236.000000   \n",
              "\n",
              "       log_total_site_energy_KBTU  \n",
              "count                 2688.000000  \n",
              "mean                    16.304023  \n",
              "std                      1.015335  \n",
              "min                      9.667765  \n",
              "25%                     15.580009  \n",
              "50%                     16.166576  \n",
              "75%                     16.907547  \n",
              "max                     20.867690  "
            ],
            "text/html": [
              "\n",
              "  <div id=\"df-9457062c-3c68-4456-a5ee-70bd07af823e\">\n",
              "    <div class=\"colab-df-container\">\n",
              "      <div>\n",
              "<style scoped>\n",
              "    .dataframe tbody tr th:only-of-type {\n",
              "        vertical-align: middle;\n",
              "    }\n",
              "\n",
              "    .dataframe tbody tr th {\n",
              "        vertical-align: top;\n",
              "    }\n",
              "\n",
              "    .dataframe thead th {\n",
              "        text-align: right;\n",
              "    }\n",
              "</style>\n",
              "<table border=\"1\" class=\"dataframe\">\n",
              "  <thead>\n",
              "    <tr style=\"text-align: right;\">\n",
              "      <th></th>\n",
              "      <th>Gross.Floor.Area...Buildings..sq.ft.</th>\n",
              "      <th>Year.Built</th>\n",
              "      <th>X..of.Buildings</th>\n",
              "      <th>log_total_site_energy_KBTU</th>\n",
              "    </tr>\n",
              "  </thead>\n",
              "  <tbody>\n",
              "    <tr>\n",
              "      <th>count</th>\n",
              "      <td>2.688000e+03</td>\n",
              "      <td>2688.000000</td>\n",
              "      <td>2688.000000</td>\n",
              "      <td>2688.000000</td>\n",
              "    </tr>\n",
              "    <tr>\n",
              "      <th>mean</th>\n",
              "      <td>2.448678e+05</td>\n",
              "      <td>1962.942336</td>\n",
              "      <td>1.405878</td>\n",
              "      <td>16.304023</td>\n",
              "    </tr>\n",
              "    <tr>\n",
              "      <th>std</th>\n",
              "      <td>3.964045e+05</td>\n",
              "      <td>36.294735</td>\n",
              "      <td>5.201993</td>\n",
              "      <td>1.015335</td>\n",
              "    </tr>\n",
              "    <tr>\n",
              "      <th>min</th>\n",
              "      <td>5.000000e+04</td>\n",
              "      <td>1872.000000</td>\n",
              "      <td>1.000000</td>\n",
              "      <td>9.667765</td>\n",
              "    </tr>\n",
              "    <tr>\n",
              "      <th>25%</th>\n",
              "      <td>7.500000e+04</td>\n",
              "      <td>1928.000000</td>\n",
              "      <td>1.000000</td>\n",
              "      <td>15.580009</td>\n",
              "    </tr>\n",
              "    <tr>\n",
              "      <th>50%</th>\n",
              "      <td>1.237265e+05</td>\n",
              "      <td>1969.000000</td>\n",
              "      <td>1.000000</td>\n",
              "      <td>16.166576</td>\n",
              "    </tr>\n",
              "    <tr>\n",
              "      <th>75%</th>\n",
              "      <td>2.521352e+05</td>\n",
              "      <td>1997.000000</td>\n",
              "      <td>1.000000</td>\n",
              "      <td>16.907547</td>\n",
              "    </tr>\n",
              "    <tr>\n",
              "      <th>max</th>\n",
              "      <td>9.245333e+06</td>\n",
              "      <td>2016.000000</td>\n",
              "      <td>236.000000</td>\n",
              "      <td>20.867690</td>\n",
              "    </tr>\n",
              "  </tbody>\n",
              "</table>\n",
              "</div>\n",
              "      <button class=\"colab-df-convert\" onclick=\"convertToInteractive('df-9457062c-3c68-4456-a5ee-70bd07af823e')\"\n",
              "              title=\"Convert this dataframe to an interactive table.\"\n",
              "              style=\"display:none;\">\n",
              "        \n",
              "  <svg xmlns=\"http://www.w3.org/2000/svg\" height=\"24px\"viewBox=\"0 0 24 24\"\n",
              "       width=\"24px\">\n",
              "    <path d=\"M0 0h24v24H0V0z\" fill=\"none\"/>\n",
              "    <path d=\"M18.56 5.44l.94 2.06.94-2.06 2.06-.94-2.06-.94-.94-2.06-.94 2.06-2.06.94zm-11 1L8.5 8.5l.94-2.06 2.06-.94-2.06-.94L8.5 2.5l-.94 2.06-2.06.94zm10 10l.94 2.06.94-2.06 2.06-.94-2.06-.94-.94-2.06-.94 2.06-2.06.94z\"/><path d=\"M17.41 7.96l-1.37-1.37c-.4-.4-.92-.59-1.43-.59-.52 0-1.04.2-1.43.59L10.3 9.45l-7.72 7.72c-.78.78-.78 2.05 0 2.83L4 21.41c.39.39.9.59 1.41.59.51 0 1.02-.2 1.41-.59l7.78-7.78 2.81-2.81c.8-.78.8-2.07 0-2.86zM5.41 20L4 18.59l7.72-7.72 1.47 1.35L5.41 20z\"/>\n",
              "  </svg>\n",
              "      </button>\n",
              "      \n",
              "  <style>\n",
              "    .colab-df-container {\n",
              "      display:flex;\n",
              "      flex-wrap:wrap;\n",
              "      gap: 12px;\n",
              "    }\n",
              "\n",
              "    .colab-df-convert {\n",
              "      background-color: #E8F0FE;\n",
              "      border: none;\n",
              "      border-radius: 50%;\n",
              "      cursor: pointer;\n",
              "      display: none;\n",
              "      fill: #1967D2;\n",
              "      height: 32px;\n",
              "      padding: 0 0 0 0;\n",
              "      width: 32px;\n",
              "    }\n",
              "\n",
              "    .colab-df-convert:hover {\n",
              "      background-color: #E2EBFA;\n",
              "      box-shadow: 0px 1px 2px rgba(60, 64, 67, 0.3), 0px 1px 3px 1px rgba(60, 64, 67, 0.15);\n",
              "      fill: #174EA6;\n",
              "    }\n",
              "\n",
              "    [theme=dark] .colab-df-convert {\n",
              "      background-color: #3B4455;\n",
              "      fill: #D2E3FC;\n",
              "    }\n",
              "\n",
              "    [theme=dark] .colab-df-convert:hover {\n",
              "      background-color: #434B5C;\n",
              "      box-shadow: 0px 1px 3px 1px rgba(0, 0, 0, 0.15);\n",
              "      filter: drop-shadow(0px 1px 2px rgba(0, 0, 0, 0.3));\n",
              "      fill: #FFFFFF;\n",
              "    }\n",
              "  </style>\n",
              "\n",
              "      <script>\n",
              "        const buttonEl =\n",
              "          document.querySelector('#df-9457062c-3c68-4456-a5ee-70bd07af823e button.colab-df-convert');\n",
              "        buttonEl.style.display =\n",
              "          google.colab.kernel.accessAllowed ? 'block' : 'none';\n",
              "\n",
              "        async function convertToInteractive(key) {\n",
              "          const element = document.querySelector('#df-9457062c-3c68-4456-a5ee-70bd07af823e');\n",
              "          const dataTable =\n",
              "            await google.colab.kernel.invokeFunction('convertToInteractive',\n",
              "                                                     [key], {});\n",
              "          if (!dataTable) return;\n",
              "\n",
              "          const docLinkHtml = 'Like what you see? Visit the ' +\n",
              "            '<a target=\"_blank\" href=https://colab.research.google.com/notebooks/data_table.ipynb>data table notebook</a>'\n",
              "            + ' to learn more about interactive tables.';\n",
              "          element.innerHTML = '';\n",
              "          dataTable['output_type'] = 'display_data';\n",
              "          await google.colab.output.renderOutput(dataTable, element);\n",
              "          const docLink = document.createElement('div');\n",
              "          docLink.innerHTML = docLinkHtml;\n",
              "          element.appendChild(docLink);\n",
              "        }\n",
              "      </script>\n",
              "    </div>\n",
              "  </div>\n",
              "  "
            ]
          },
          "metadata": {},
          "execution_count": 137
        }
      ]
    },
    {
      "cell_type": "code",
      "source": [
        "chicago.info() "
      ],
      "metadata": {
        "id": "qFWWCuN755gc",
        "outputId": "2ad240bb-d9f6-40f4-fbe2-5640a55a7cf1",
        "colab": {
          "base_uri": "https://localhost:8080/"
        }
      },
      "execution_count": 138,
      "outputs": [
        {
          "output_type": "stream",
          "name": "stdout",
          "text": [
            "<class 'pandas.core.frame.DataFrame'>\n",
            "RangeIndex: 2688 entries, 0 to 2687\n",
            "Data columns (total 5 columns):\n",
            " #   Column                                Non-Null Count  Dtype  \n",
            "---  ------                                --------------  -----  \n",
            " 0   Primary.Property.Type                 2688 non-null   object \n",
            " 1   Gross.Floor.Area...Buildings..sq.ft.  2688 non-null   float64\n",
            " 2   Year.Built                            2688 non-null   int64  \n",
            " 3   X..of.Buildings                       2688 non-null   int64  \n",
            " 4   log_total_site_energy_KBTU            2688 non-null   float64\n",
            "dtypes: float64(2), int64(2), object(1)\n",
            "memory usage: 105.1+ KB\n"
          ]
        }
      ]
    },
    {
      "cell_type": "code",
      "source": [
        "DC.describe()\n",
        "\n",
        "#Here we look at the overall description of DC data after the cleanining process"
      ],
      "metadata": {
        "id": "mZu2268k3nPE",
        "outputId": "153893a2-6552-45bb-c375-868f51628e2e",
        "colab": {
          "base_uri": "https://localhost:8080/",
          "height": 300
        }
      },
      "execution_count": 139,
      "outputs": [
        {
          "output_type": "execute_result",
          "data": {
            "text/plain": [
              "              ward   year_built  tax_record_floor_area  \\\n",
              "count  1455.000000  1455.000000           1.455000e+03   \n",
              "mean      3.472852  1940.804811           2.046748e+05   \n",
              "std       2.047691   167.230361           2.451302e+05   \n",
              "min       1.000000  1000.000000           9.171000e+03   \n",
              "25%       2.000000  1947.000000           7.164000e+04   \n",
              "50%       2.000000  1971.000000           1.287720e+05   \n",
              "75%       5.000000  1994.000000           2.585310e+05   \n",
              "max       8.000000  2017.000000           3.997572e+06   \n",
              "\n",
              "       reported_gross_floor_area     water_use  log_total_site_energy_KBTU  \n",
              "count               1.455000e+03  1.455000e+03                 1455.000000  \n",
              "mean                1.897612e+05  5.109905e+04                   15.905810  \n",
              "std                 2.436786e+05  6.163321e+05                    0.991320  \n",
              "min                 9.171000e+03  0.000000e+00                   10.955942  \n",
              "25%                 7.111750e+04  1.958050e+03                   15.322523  \n",
              "50%                 1.215530e+05  4.063800e+03                   15.914268  \n",
              "75%                 2.372130e+05  7.008700e+03                   16.566343  \n",
              "max                 5.634890e+06  1.929391e+07                   20.478962  "
            ],
            "text/html": [
              "\n",
              "  <div id=\"df-32c25249-af9a-421f-84f9-6b4a0a39201c\">\n",
              "    <div class=\"colab-df-container\">\n",
              "      <div>\n",
              "<style scoped>\n",
              "    .dataframe tbody tr th:only-of-type {\n",
              "        vertical-align: middle;\n",
              "    }\n",
              "\n",
              "    .dataframe tbody tr th {\n",
              "        vertical-align: top;\n",
              "    }\n",
              "\n",
              "    .dataframe thead th {\n",
              "        text-align: right;\n",
              "    }\n",
              "</style>\n",
              "<table border=\"1\" class=\"dataframe\">\n",
              "  <thead>\n",
              "    <tr style=\"text-align: right;\">\n",
              "      <th></th>\n",
              "      <th>ward</th>\n",
              "      <th>year_built</th>\n",
              "      <th>tax_record_floor_area</th>\n",
              "      <th>reported_gross_floor_area</th>\n",
              "      <th>water_use</th>\n",
              "      <th>log_total_site_energy_KBTU</th>\n",
              "    </tr>\n",
              "  </thead>\n",
              "  <tbody>\n",
              "    <tr>\n",
              "      <th>count</th>\n",
              "      <td>1455.000000</td>\n",
              "      <td>1455.000000</td>\n",
              "      <td>1.455000e+03</td>\n",
              "      <td>1.455000e+03</td>\n",
              "      <td>1.455000e+03</td>\n",
              "      <td>1455.000000</td>\n",
              "    </tr>\n",
              "    <tr>\n",
              "      <th>mean</th>\n",
              "      <td>3.472852</td>\n",
              "      <td>1940.804811</td>\n",
              "      <td>2.046748e+05</td>\n",
              "      <td>1.897612e+05</td>\n",
              "      <td>5.109905e+04</td>\n",
              "      <td>15.905810</td>\n",
              "    </tr>\n",
              "    <tr>\n",
              "      <th>std</th>\n",
              "      <td>2.047691</td>\n",
              "      <td>167.230361</td>\n",
              "      <td>2.451302e+05</td>\n",
              "      <td>2.436786e+05</td>\n",
              "      <td>6.163321e+05</td>\n",
              "      <td>0.991320</td>\n",
              "    </tr>\n",
              "    <tr>\n",
              "      <th>min</th>\n",
              "      <td>1.000000</td>\n",
              "      <td>1000.000000</td>\n",
              "      <td>9.171000e+03</td>\n",
              "      <td>9.171000e+03</td>\n",
              "      <td>0.000000e+00</td>\n",
              "      <td>10.955942</td>\n",
              "    </tr>\n",
              "    <tr>\n",
              "      <th>25%</th>\n",
              "      <td>2.000000</td>\n",
              "      <td>1947.000000</td>\n",
              "      <td>7.164000e+04</td>\n",
              "      <td>7.111750e+04</td>\n",
              "      <td>1.958050e+03</td>\n",
              "      <td>15.322523</td>\n",
              "    </tr>\n",
              "    <tr>\n",
              "      <th>50%</th>\n",
              "      <td>2.000000</td>\n",
              "      <td>1971.000000</td>\n",
              "      <td>1.287720e+05</td>\n",
              "      <td>1.215530e+05</td>\n",
              "      <td>4.063800e+03</td>\n",
              "      <td>15.914268</td>\n",
              "    </tr>\n",
              "    <tr>\n",
              "      <th>75%</th>\n",
              "      <td>5.000000</td>\n",
              "      <td>1994.000000</td>\n",
              "      <td>2.585310e+05</td>\n",
              "      <td>2.372130e+05</td>\n",
              "      <td>7.008700e+03</td>\n",
              "      <td>16.566343</td>\n",
              "    </tr>\n",
              "    <tr>\n",
              "      <th>max</th>\n",
              "      <td>8.000000</td>\n",
              "      <td>2017.000000</td>\n",
              "      <td>3.997572e+06</td>\n",
              "      <td>5.634890e+06</td>\n",
              "      <td>1.929391e+07</td>\n",
              "      <td>20.478962</td>\n",
              "    </tr>\n",
              "  </tbody>\n",
              "</table>\n",
              "</div>\n",
              "      <button class=\"colab-df-convert\" onclick=\"convertToInteractive('df-32c25249-af9a-421f-84f9-6b4a0a39201c')\"\n",
              "              title=\"Convert this dataframe to an interactive table.\"\n",
              "              style=\"display:none;\">\n",
              "        \n",
              "  <svg xmlns=\"http://www.w3.org/2000/svg\" height=\"24px\"viewBox=\"0 0 24 24\"\n",
              "       width=\"24px\">\n",
              "    <path d=\"M0 0h24v24H0V0z\" fill=\"none\"/>\n",
              "    <path d=\"M18.56 5.44l.94 2.06.94-2.06 2.06-.94-2.06-.94-.94-2.06-.94 2.06-2.06.94zm-11 1L8.5 8.5l.94-2.06 2.06-.94-2.06-.94L8.5 2.5l-.94 2.06-2.06.94zm10 10l.94 2.06.94-2.06 2.06-.94-2.06-.94-.94-2.06-.94 2.06-2.06.94z\"/><path d=\"M17.41 7.96l-1.37-1.37c-.4-.4-.92-.59-1.43-.59-.52 0-1.04.2-1.43.59L10.3 9.45l-7.72 7.72c-.78.78-.78 2.05 0 2.83L4 21.41c.39.39.9.59 1.41.59.51 0 1.02-.2 1.41-.59l7.78-7.78 2.81-2.81c.8-.78.8-2.07 0-2.86zM5.41 20L4 18.59l7.72-7.72 1.47 1.35L5.41 20z\"/>\n",
              "  </svg>\n",
              "      </button>\n",
              "      \n",
              "  <style>\n",
              "    .colab-df-container {\n",
              "      display:flex;\n",
              "      flex-wrap:wrap;\n",
              "      gap: 12px;\n",
              "    }\n",
              "\n",
              "    .colab-df-convert {\n",
              "      background-color: #E8F0FE;\n",
              "      border: none;\n",
              "      border-radius: 50%;\n",
              "      cursor: pointer;\n",
              "      display: none;\n",
              "      fill: #1967D2;\n",
              "      height: 32px;\n",
              "      padding: 0 0 0 0;\n",
              "      width: 32px;\n",
              "    }\n",
              "\n",
              "    .colab-df-convert:hover {\n",
              "      background-color: #E2EBFA;\n",
              "      box-shadow: 0px 1px 2px rgba(60, 64, 67, 0.3), 0px 1px 3px 1px rgba(60, 64, 67, 0.15);\n",
              "      fill: #174EA6;\n",
              "    }\n",
              "\n",
              "    [theme=dark] .colab-df-convert {\n",
              "      background-color: #3B4455;\n",
              "      fill: #D2E3FC;\n",
              "    }\n",
              "\n",
              "    [theme=dark] .colab-df-convert:hover {\n",
              "      background-color: #434B5C;\n",
              "      box-shadow: 0px 1px 3px 1px rgba(0, 0, 0, 0.15);\n",
              "      filter: drop-shadow(0px 1px 2px rgba(0, 0, 0, 0.3));\n",
              "      fill: #FFFFFF;\n",
              "    }\n",
              "  </style>\n",
              "\n",
              "      <script>\n",
              "        const buttonEl =\n",
              "          document.querySelector('#df-32c25249-af9a-421f-84f9-6b4a0a39201c button.colab-df-convert');\n",
              "        buttonEl.style.display =\n",
              "          google.colab.kernel.accessAllowed ? 'block' : 'none';\n",
              "\n",
              "        async function convertToInteractive(key) {\n",
              "          const element = document.querySelector('#df-32c25249-af9a-421f-84f9-6b4a0a39201c');\n",
              "          const dataTable =\n",
              "            await google.colab.kernel.invokeFunction('convertToInteractive',\n",
              "                                                     [key], {});\n",
              "          if (!dataTable) return;\n",
              "\n",
              "          const docLinkHtml = 'Like what you see? Visit the ' +\n",
              "            '<a target=\"_blank\" href=https://colab.research.google.com/notebooks/data_table.ipynb>data table notebook</a>'\n",
              "            + ' to learn more about interactive tables.';\n",
              "          element.innerHTML = '';\n",
              "          dataTable['output_type'] = 'display_data';\n",
              "          await google.colab.output.renderOutput(dataTable, element);\n",
              "          const docLink = document.createElement('div');\n",
              "          docLink.innerHTML = docLinkHtml;\n",
              "          element.appendChild(docLink);\n",
              "        }\n",
              "      </script>\n",
              "    </div>\n",
              "  </div>\n",
              "  "
            ]
          },
          "metadata": {},
          "execution_count": 139
        }
      ]
    },
    {
      "cell_type": "code",
      "source": [
        "DC.info()"
      ],
      "metadata": {
        "id": "l8baR_zv3o0m",
        "outputId": "73979c25-23bd-45db-d212-d9e2cda572d7",
        "colab": {
          "base_uri": "https://localhost:8080/"
        }
      },
      "execution_count": 140,
      "outputs": [
        {
          "output_type": "stream",
          "name": "stdout",
          "text": [
            "<class 'pandas.core.frame.DataFrame'>\n",
            "RangeIndex: 1455 entries, 0 to 1454\n",
            "Data columns (total 12 columns):\n",
            " #   Column                      Non-Null Count  Dtype  \n",
            "---  ------                      --------------  -----  \n",
            " 0   report_status               1455 non-null   object \n",
            " 1   ward                        1455 non-null   int64  \n",
            " 2   postal_code                 1455 non-null   object \n",
            " 3   year_built                  1455 non-null   int64  \n",
            " 4   primary_ptype_self          1455 non-null   object \n",
            " 5   primary_ptype_epa           1455 non-null   object \n",
            " 6   tax_record_floor_area       1455 non-null   float64\n",
            " 7   reported_gross_floor_area   1455 non-null   float64\n",
            " 8   water_use                   1455 non-null   float64\n",
            " 9   metered_areas_energy        1455 non-null   object \n",
            " 10  metered_areas_water         1455 non-null   object \n",
            " 11  log_total_site_energy_KBTU  1455 non-null   float64\n",
            "dtypes: float64(4), int64(2), object(6)\n",
            "memory usage: 136.5+ KB\n"
          ]
        }
      ]
    },
    {
      "cell_type": "markdown",
      "source": [
        "## Throw away data where the **target** variable is missing\n",
        "\n",
        "I will remove each row where I do not have the target variable. To do that I use `df.dropna()` and the subset argument of `df.dropna()` set to the name of the variable. The `how` should be set to \"any\" cause you want to drop the row where any values in the subset is NaN (this is a subset of one column, so it is obvious, but imagine if you were passing more than one column to the call `dropna()`"
      ],
      "metadata": {
        "id": "LjzW2m2I-dvq"
      }
    },
    {
      "cell_type": "code",
      "source": [
        "chicago['log_total_site_energy_KBTU'].isna().sum()"
      ],
      "metadata": {
        "id": "88ClnK0J6h4a",
        "outputId": "6a96fc07-87e9-4c37-a96c-6c7f2effc8b7",
        "colab": {
          "base_uri": "https://localhost:8080/"
        }
      },
      "execution_count": 141,
      "outputs": [
        {
          "output_type": "execute_result",
          "data": {
            "text/plain": [
              "0"
            ]
          },
          "metadata": {},
          "execution_count": 141
        }
      ]
    },
    {
      "cell_type": "code",
      "source": [
        "DC[\"log_total_site_energy_KBTU\"].isna().sum()"
      ],
      "metadata": {
        "id": "aDMtT0kq_rUx",
        "outputId": "8e36ef33-08a3-4301-b95c-8117e97ba3cf",
        "colab": {
          "base_uri": "https://localhost:8080/"
        }
      },
      "execution_count": 142,
      "outputs": [
        {
          "output_type": "execute_result",
          "data": {
            "text/plain": [
              "0"
            ]
          },
          "metadata": {},
          "execution_count": 142
        }
      ]
    },
    {
      "cell_type": "code",
      "source": [
        "\n",
        "original_len = chicago.shape[0]\n",
        "chicago.dropna(subset=['log_total_site_energy_KBTU'], inplace = True) \n",
        "\n",
        "print(\"{:.2f}%\".format((1 - (chicago.shape[0] / original_len)) * 100), \"of chicago data was lost\" )\n",
        "\n",
        "\n",
        "original_len = DC.shape[0]\n",
        "DC.dropna(subset=['log_total_site_energy_KBTU'], inplace = True) \n",
        "\n",
        "print(\"{:.2f}%\".format((1 - (DC.shape[0] / original_len)) * 100), \"of DC data was lost\")\n",
        "\n"
      ],
      "metadata": {
        "colab": {
          "base_uri": "https://localhost:8080/"
        },
        "id": "MQC0OsUq-i0Q",
        "outputId": "e2861834-ddac-4d38-95ad-9c0e723ea31c"
      },
      "execution_count": 143,
      "outputs": [
        {
          "output_type": "stream",
          "name": "stdout",
          "text": [
            "0.00% of chicago data was lost\n",
            "0.00% of DC data was lost\n"
          ]
        }
      ]
    },
    {
      "cell_type": "code",
      "metadata": {
        "id": "7uQG7QcFPJUA"
      },
      "source": [
        "# isolate the target variable first (endogenous)\n",
        "y_chicago = chicago[['log_total_site_energy_KBTU']]\n",
        "y_DC = DC[['log_total_site_energy_KBTU']]\n",
        "\n",
        "# and the input variables (exogenous)\n",
        "X_chicago = chicago.drop('log_total_site_energy_KBTU', axis=1)\n",
        "X_DC = DC.drop('log_total_site_energy_KBTU', axis=1)"
      ],
      "execution_count": 144,
      "outputs": []
    },
    {
      "cell_type": "markdown",
      "metadata": {
        "id": "iNbDz-98ZvkM"
      },
      "source": [
        "### separate categorical and numerical values\n",
        "you will proceed to missing data imputation differently in the 2 cases"
      ]
    },
    {
      "cell_type": "code",
      "source": [
        "# I am giving you the solution but please take note of how one does this!\n",
        "\n",
        "X_chicago_numeric_data = X_chicago.select_dtypes(include=[np.number])\n",
        "X_chicago_categorical_data = X_chicago.select_dtypes(exclude=[np.number])\n",
        "\n",
        "X_DC_numeric_data = X_DC.select_dtypes(include=[np.number])\n",
        "X_DC_categorical_data = X_DC.select_dtypes(exclude=[np.number])"
      ],
      "metadata": {
        "id": "-XpDBDTI-gE_"
      },
      "execution_count": 145,
      "outputs": []
    },
    {
      "cell_type": "code",
      "source": [
        "X_chicago_numeric_data.shape"
      ],
      "metadata": {
        "id": "fTjcQ4Id_IWB",
        "outputId": "d5e73fc1-beb0-485e-9f8d-56a77828cd59",
        "colab": {
          "base_uri": "https://localhost:8080/"
        }
      },
      "execution_count": 146,
      "outputs": [
        {
          "output_type": "execute_result",
          "data": {
            "text/plain": [
              "(2688, 3)"
            ]
          },
          "metadata": {},
          "execution_count": 146
        }
      ]
    },
    {
      "cell_type": "code",
      "source": [
        "X_DC_numeric_data.shape"
      ],
      "metadata": {
        "id": "XqzpqLGx-kpp",
        "outputId": "d403cb9c-be60-499c-8473-f979f6f66daf",
        "colab": {
          "base_uri": "https://localhost:8080/"
        }
      },
      "execution_count": 147,
      "outputs": [
        {
          "output_type": "execute_result",
          "data": {
            "text/plain": [
              "(1455, 5)"
            ]
          },
          "metadata": {},
          "execution_count": 147
        }
      ]
    },
    {
      "cell_type": "code",
      "source": [
        "X_chicago_numeric_data.head()"
      ],
      "metadata": {
        "id": "_xQ8ID7S_WUI",
        "outputId": "d3e51cbe-e93f-46b3-c55e-165522251df7",
        "colab": {
          "base_uri": "https://localhost:8080/",
          "height": 206
        }
      },
      "execution_count": 148,
      "outputs": [
        {
          "output_type": "execute_result",
          "data": {
            "text/plain": [
              "   Gross.Floor.Area...Buildings..sq.ft.  Year.Built  X..of.Buildings\n",
              "0                               99000.0        2000                1\n",
              "1                               92072.0        2014                1\n",
              "2                              136000.0        1924                1\n",
              "3                              182246.0        1964                1\n",
              "4                              193497.0        1930                1"
            ],
            "text/html": [
              "\n",
              "  <div id=\"df-31d198e3-a31d-41f2-96aa-4d89d390f251\">\n",
              "    <div class=\"colab-df-container\">\n",
              "      <div>\n",
              "<style scoped>\n",
              "    .dataframe tbody tr th:only-of-type {\n",
              "        vertical-align: middle;\n",
              "    }\n",
              "\n",
              "    .dataframe tbody tr th {\n",
              "        vertical-align: top;\n",
              "    }\n",
              "\n",
              "    .dataframe thead th {\n",
              "        text-align: right;\n",
              "    }\n",
              "</style>\n",
              "<table border=\"1\" class=\"dataframe\">\n",
              "  <thead>\n",
              "    <tr style=\"text-align: right;\">\n",
              "      <th></th>\n",
              "      <th>Gross.Floor.Area...Buildings..sq.ft.</th>\n",
              "      <th>Year.Built</th>\n",
              "      <th>X..of.Buildings</th>\n",
              "    </tr>\n",
              "  </thead>\n",
              "  <tbody>\n",
              "    <tr>\n",
              "      <th>0</th>\n",
              "      <td>99000.0</td>\n",
              "      <td>2000</td>\n",
              "      <td>1</td>\n",
              "    </tr>\n",
              "    <tr>\n",
              "      <th>1</th>\n",
              "      <td>92072.0</td>\n",
              "      <td>2014</td>\n",
              "      <td>1</td>\n",
              "    </tr>\n",
              "    <tr>\n",
              "      <th>2</th>\n",
              "      <td>136000.0</td>\n",
              "      <td>1924</td>\n",
              "      <td>1</td>\n",
              "    </tr>\n",
              "    <tr>\n",
              "      <th>3</th>\n",
              "      <td>182246.0</td>\n",
              "      <td>1964</td>\n",
              "      <td>1</td>\n",
              "    </tr>\n",
              "    <tr>\n",
              "      <th>4</th>\n",
              "      <td>193497.0</td>\n",
              "      <td>1930</td>\n",
              "      <td>1</td>\n",
              "    </tr>\n",
              "  </tbody>\n",
              "</table>\n",
              "</div>\n",
              "      <button class=\"colab-df-convert\" onclick=\"convertToInteractive('df-31d198e3-a31d-41f2-96aa-4d89d390f251')\"\n",
              "              title=\"Convert this dataframe to an interactive table.\"\n",
              "              style=\"display:none;\">\n",
              "        \n",
              "  <svg xmlns=\"http://www.w3.org/2000/svg\" height=\"24px\"viewBox=\"0 0 24 24\"\n",
              "       width=\"24px\">\n",
              "    <path d=\"M0 0h24v24H0V0z\" fill=\"none\"/>\n",
              "    <path d=\"M18.56 5.44l.94 2.06.94-2.06 2.06-.94-2.06-.94-.94-2.06-.94 2.06-2.06.94zm-11 1L8.5 8.5l.94-2.06 2.06-.94-2.06-.94L8.5 2.5l-.94 2.06-2.06.94zm10 10l.94 2.06.94-2.06 2.06-.94-2.06-.94-.94-2.06-.94 2.06-2.06.94z\"/><path d=\"M17.41 7.96l-1.37-1.37c-.4-.4-.92-.59-1.43-.59-.52 0-1.04.2-1.43.59L10.3 9.45l-7.72 7.72c-.78.78-.78 2.05 0 2.83L4 21.41c.39.39.9.59 1.41.59.51 0 1.02-.2 1.41-.59l7.78-7.78 2.81-2.81c.8-.78.8-2.07 0-2.86zM5.41 20L4 18.59l7.72-7.72 1.47 1.35L5.41 20z\"/>\n",
              "  </svg>\n",
              "      </button>\n",
              "      \n",
              "  <style>\n",
              "    .colab-df-container {\n",
              "      display:flex;\n",
              "      flex-wrap:wrap;\n",
              "      gap: 12px;\n",
              "    }\n",
              "\n",
              "    .colab-df-convert {\n",
              "      background-color: #E8F0FE;\n",
              "      border: none;\n",
              "      border-radius: 50%;\n",
              "      cursor: pointer;\n",
              "      display: none;\n",
              "      fill: #1967D2;\n",
              "      height: 32px;\n",
              "      padding: 0 0 0 0;\n",
              "      width: 32px;\n",
              "    }\n",
              "\n",
              "    .colab-df-convert:hover {\n",
              "      background-color: #E2EBFA;\n",
              "      box-shadow: 0px 1px 2px rgba(60, 64, 67, 0.3), 0px 1px 3px 1px rgba(60, 64, 67, 0.15);\n",
              "      fill: #174EA6;\n",
              "    }\n",
              "\n",
              "    [theme=dark] .colab-df-convert {\n",
              "      background-color: #3B4455;\n",
              "      fill: #D2E3FC;\n",
              "    }\n",
              "\n",
              "    [theme=dark] .colab-df-convert:hover {\n",
              "      background-color: #434B5C;\n",
              "      box-shadow: 0px 1px 3px 1px rgba(0, 0, 0, 0.15);\n",
              "      filter: drop-shadow(0px 1px 2px rgba(0, 0, 0, 0.3));\n",
              "      fill: #FFFFFF;\n",
              "    }\n",
              "  </style>\n",
              "\n",
              "      <script>\n",
              "        const buttonEl =\n",
              "          document.querySelector('#df-31d198e3-a31d-41f2-96aa-4d89d390f251 button.colab-df-convert');\n",
              "        buttonEl.style.display =\n",
              "          google.colab.kernel.accessAllowed ? 'block' : 'none';\n",
              "\n",
              "        async function convertToInteractive(key) {\n",
              "          const element = document.querySelector('#df-31d198e3-a31d-41f2-96aa-4d89d390f251');\n",
              "          const dataTable =\n",
              "            await google.colab.kernel.invokeFunction('convertToInteractive',\n",
              "                                                     [key], {});\n",
              "          if (!dataTable) return;\n",
              "\n",
              "          const docLinkHtml = 'Like what you see? Visit the ' +\n",
              "            '<a target=\"_blank\" href=https://colab.research.google.com/notebooks/data_table.ipynb>data table notebook</a>'\n",
              "            + ' to learn more about interactive tables.';\n",
              "          element.innerHTML = '';\n",
              "          dataTable['output_type'] = 'display_data';\n",
              "          await google.colab.output.renderOutput(dataTable, element);\n",
              "          const docLink = document.createElement('div');\n",
              "          docLink.innerHTML = docLinkHtml;\n",
              "          element.appendChild(docLink);\n",
              "        }\n",
              "      </script>\n",
              "    </div>\n",
              "  </div>\n",
              "  "
            ]
          },
          "metadata": {},
          "execution_count": 148
        }
      ]
    },
    {
      "cell_type": "code",
      "source": [
        "X_DC_numeric_data.head() "
      ],
      "metadata": {
        "id": "_3qPUKno_aXS",
        "outputId": "392377d5-95c9-4d2b-e825-5eba42f5126a",
        "colab": {
          "base_uri": "https://localhost:8080/",
          "height": 206
        }
      },
      "execution_count": 149,
      "outputs": [
        {
          "output_type": "execute_result",
          "data": {
            "text/plain": [
              "   ward  year_built  tax_record_floor_area  reported_gross_floor_area  \\\n",
              "0     4        1959                63227.0                    65000.0   \n",
              "1     2        1997               251557.0                   257943.0   \n",
              "2     2        1964               330550.0                   223218.0   \n",
              "3     2        1969               256839.0                   213067.0   \n",
              "4     2        1975               370000.0                   381518.0   \n",
              "\n",
              "   water_use  \n",
              "0     6963.5  \n",
              "1     8490.0  \n",
              "2     8749.1  \n",
              "3     5393.8  \n",
              "4    10422.6  "
            ],
            "text/html": [
              "\n",
              "  <div id=\"df-e6ce86a0-d532-4da8-84cc-a9aab3219d64\">\n",
              "    <div class=\"colab-df-container\">\n",
              "      <div>\n",
              "<style scoped>\n",
              "    .dataframe tbody tr th:only-of-type {\n",
              "        vertical-align: middle;\n",
              "    }\n",
              "\n",
              "    .dataframe tbody tr th {\n",
              "        vertical-align: top;\n",
              "    }\n",
              "\n",
              "    .dataframe thead th {\n",
              "        text-align: right;\n",
              "    }\n",
              "</style>\n",
              "<table border=\"1\" class=\"dataframe\">\n",
              "  <thead>\n",
              "    <tr style=\"text-align: right;\">\n",
              "      <th></th>\n",
              "      <th>ward</th>\n",
              "      <th>year_built</th>\n",
              "      <th>tax_record_floor_area</th>\n",
              "      <th>reported_gross_floor_area</th>\n",
              "      <th>water_use</th>\n",
              "    </tr>\n",
              "  </thead>\n",
              "  <tbody>\n",
              "    <tr>\n",
              "      <th>0</th>\n",
              "      <td>4</td>\n",
              "      <td>1959</td>\n",
              "      <td>63227.0</td>\n",
              "      <td>65000.0</td>\n",
              "      <td>6963.5</td>\n",
              "    </tr>\n",
              "    <tr>\n",
              "      <th>1</th>\n",
              "      <td>2</td>\n",
              "      <td>1997</td>\n",
              "      <td>251557.0</td>\n",
              "      <td>257943.0</td>\n",
              "      <td>8490.0</td>\n",
              "    </tr>\n",
              "    <tr>\n",
              "      <th>2</th>\n",
              "      <td>2</td>\n",
              "      <td>1964</td>\n",
              "      <td>330550.0</td>\n",
              "      <td>223218.0</td>\n",
              "      <td>8749.1</td>\n",
              "    </tr>\n",
              "    <tr>\n",
              "      <th>3</th>\n",
              "      <td>2</td>\n",
              "      <td>1969</td>\n",
              "      <td>256839.0</td>\n",
              "      <td>213067.0</td>\n",
              "      <td>5393.8</td>\n",
              "    </tr>\n",
              "    <tr>\n",
              "      <th>4</th>\n",
              "      <td>2</td>\n",
              "      <td>1975</td>\n",
              "      <td>370000.0</td>\n",
              "      <td>381518.0</td>\n",
              "      <td>10422.6</td>\n",
              "    </tr>\n",
              "  </tbody>\n",
              "</table>\n",
              "</div>\n",
              "      <button class=\"colab-df-convert\" onclick=\"convertToInteractive('df-e6ce86a0-d532-4da8-84cc-a9aab3219d64')\"\n",
              "              title=\"Convert this dataframe to an interactive table.\"\n",
              "              style=\"display:none;\">\n",
              "        \n",
              "  <svg xmlns=\"http://www.w3.org/2000/svg\" height=\"24px\"viewBox=\"0 0 24 24\"\n",
              "       width=\"24px\">\n",
              "    <path d=\"M0 0h24v24H0V0z\" fill=\"none\"/>\n",
              "    <path d=\"M18.56 5.44l.94 2.06.94-2.06 2.06-.94-2.06-.94-.94-2.06-.94 2.06-2.06.94zm-11 1L8.5 8.5l.94-2.06 2.06-.94-2.06-.94L8.5 2.5l-.94 2.06-2.06.94zm10 10l.94 2.06.94-2.06 2.06-.94-2.06-.94-.94-2.06-.94 2.06-2.06.94z\"/><path d=\"M17.41 7.96l-1.37-1.37c-.4-.4-.92-.59-1.43-.59-.52 0-1.04.2-1.43.59L10.3 9.45l-7.72 7.72c-.78.78-.78 2.05 0 2.83L4 21.41c.39.39.9.59 1.41.59.51 0 1.02-.2 1.41-.59l7.78-7.78 2.81-2.81c.8-.78.8-2.07 0-2.86zM5.41 20L4 18.59l7.72-7.72 1.47 1.35L5.41 20z\"/>\n",
              "  </svg>\n",
              "      </button>\n",
              "      \n",
              "  <style>\n",
              "    .colab-df-container {\n",
              "      display:flex;\n",
              "      flex-wrap:wrap;\n",
              "      gap: 12px;\n",
              "    }\n",
              "\n",
              "    .colab-df-convert {\n",
              "      background-color: #E8F0FE;\n",
              "      border: none;\n",
              "      border-radius: 50%;\n",
              "      cursor: pointer;\n",
              "      display: none;\n",
              "      fill: #1967D2;\n",
              "      height: 32px;\n",
              "      padding: 0 0 0 0;\n",
              "      width: 32px;\n",
              "    }\n",
              "\n",
              "    .colab-df-convert:hover {\n",
              "      background-color: #E2EBFA;\n",
              "      box-shadow: 0px 1px 2px rgba(60, 64, 67, 0.3), 0px 1px 3px 1px rgba(60, 64, 67, 0.15);\n",
              "      fill: #174EA6;\n",
              "    }\n",
              "\n",
              "    [theme=dark] .colab-df-convert {\n",
              "      background-color: #3B4455;\n",
              "      fill: #D2E3FC;\n",
              "    }\n",
              "\n",
              "    [theme=dark] .colab-df-convert:hover {\n",
              "      background-color: #434B5C;\n",
              "      box-shadow: 0px 1px 3px 1px rgba(0, 0, 0, 0.15);\n",
              "      filter: drop-shadow(0px 1px 2px rgba(0, 0, 0, 0.3));\n",
              "      fill: #FFFFFF;\n",
              "    }\n",
              "  </style>\n",
              "\n",
              "      <script>\n",
              "        const buttonEl =\n",
              "          document.querySelector('#df-e6ce86a0-d532-4da8-84cc-a9aab3219d64 button.colab-df-convert');\n",
              "        buttonEl.style.display =\n",
              "          google.colab.kernel.accessAllowed ? 'block' : 'none';\n",
              "\n",
              "        async function convertToInteractive(key) {\n",
              "          const element = document.querySelector('#df-e6ce86a0-d532-4da8-84cc-a9aab3219d64');\n",
              "          const dataTable =\n",
              "            await google.colab.kernel.invokeFunction('convertToInteractive',\n",
              "                                                     [key], {});\n",
              "          if (!dataTable) return;\n",
              "\n",
              "          const docLinkHtml = 'Like what you see? Visit the ' +\n",
              "            '<a target=\"_blank\" href=https://colab.research.google.com/notebooks/data_table.ipynb>data table notebook</a>'\n",
              "            + ' to learn more about interactive tables.';\n",
              "          element.innerHTML = '';\n",
              "          dataTable['output_type'] = 'display_data';\n",
              "          await google.colab.output.renderOutput(dataTable, element);\n",
              "          const docLink = document.createElement('div');\n",
              "          docLink.innerHTML = docLinkHtml;\n",
              "          element.appendChild(docLink);\n",
              "        }\n",
              "      </script>\n",
              "    </div>\n",
              "  </div>\n",
              "  "
            ]
          },
          "metadata": {},
          "execution_count": 149
        }
      ]
    },
    {
      "cell_type": "code",
      "source": [
        "X_chicago_categorical_data.shape"
      ],
      "metadata": {
        "id": "4T_3UDYv_Nft",
        "outputId": "4822eb4a-93ad-45a6-a7b6-af870fcdf22e",
        "colab": {
          "base_uri": "https://localhost:8080/"
        }
      },
      "execution_count": 150,
      "outputs": [
        {
          "output_type": "execute_result",
          "data": {
            "text/plain": [
              "(2688, 1)"
            ]
          },
          "metadata": {},
          "execution_count": 150
        }
      ]
    },
    {
      "cell_type": "code",
      "source": [
        "X_DC_categorical_data.shape"
      ],
      "metadata": {
        "id": "J0izelBF_3hJ",
        "outputId": "00837839-a742-48ff-9516-c6089c33806f",
        "colab": {
          "base_uri": "https://localhost:8080/"
        }
      },
      "execution_count": 151,
      "outputs": [
        {
          "output_type": "execute_result",
          "data": {
            "text/plain": [
              "(1455, 6)"
            ]
          },
          "metadata": {},
          "execution_count": 151
        }
      ]
    },
    {
      "cell_type": "markdown",
      "source": [
        "## TASK 2.1: make a scatter plot to assess covariance of numerical variables"
      ],
      "metadata": {
        "id": "l5MLHK6N8Ywm"
      }
    },
    {
      "cell_type": "markdown",
      "source": [
        "### IMPORTANT!! \n",
        "\n",
        "there are going to be some **very** collinear variable - zoom in and chek them out - what are they? You will need to remove variables that are _identical_, because you obviously do not want to imput the data twice in the model - it will not improve the model and it will impact the feature importance analysis.\n",
        "\n",
        "What else looks like it should be removed? \n",
        "\n",
        "**Reason about it and explain your choices in the caption of the figure**\n",
        "\n"
      ],
      "metadata": {
        "id": "ZtXoL_JgF04s"
      }
    },
    {
      "cell_type": "code",
      "source": [
        "# THIS TAKES A LOOOONG TIME! ~10 MINUTES ON COLAB FOR ME\n",
        "import seaborn as sns\n",
        "sns.pairplot(X_chicago_numeric_data)\n",
        "# DELETE OUTPUT!"
      ],
      "metadata": {
        "id": "zsWGebVX80OQ",
        "colab": {
          "base_uri": "https://localhost:8080/",
          "height": 563
        },
        "outputId": "978e4232-a947-4581-b3b1-546cfac17fab"
      },
      "execution_count": 152,
      "outputs": [
        {
          "output_type": "execute_result",
          "data": {
            "text/plain": [
              "<seaborn.axisgrid.PairGrid at 0x7f3a2a4efc90>"
            ]
          },
          "metadata": {},
          "execution_count": 152
        },
        {
          "output_type": "display_data",
          "data": {
            "text/plain": [
              "<Figure size 540x540 with 12 Axes>"
            ],
            "image/png": "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\n"
          },
          "metadata": {
            "needs_background": "light"
          }
        }
      ]
    },
    {
      "cell_type": "code",
      "source": [
        "# THIS TAKES A LOOOONG TIME! ~10 MINUTES ON COLAB FOR ME\n",
        "import seaborn as sns\n",
        "sns.pairplot(X_DC_numeric_data)\n",
        "# DELETE OUTPUT!"
      ],
      "metadata": {
        "id": "WDB06E6vBVqC",
        "outputId": "c72198d7-3afa-4a3a-ab67-71e89a498704",
        "colab": {
          "base_uri": "https://localhost:8080/",
          "height": 920
        }
      },
      "execution_count": 153,
      "outputs": [
        {
          "output_type": "execute_result",
          "data": {
            "text/plain": [
              "<seaborn.axisgrid.PairGrid at 0x7f3a0668af50>"
            ]
          },
          "metadata": {},
          "execution_count": 153
        },
        {
          "output_type": "display_data",
          "data": {
            "text/plain": [
              "<Figure size 900x900 with 30 Axes>"
            ],
            "image/png": "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\n"
          },
          "metadata": {
            "needs_background": "light"
          }
        }
      ]
    },
    {
      "cell_type": "code",
      "source": [
        "X_chicago_numeric_data.head()"
      ],
      "metadata": {
        "id": "TG2AE_PyB4MH",
        "outputId": "d4a35be1-5457-45d9-fd8d-198240b43dd9",
        "colab": {
          "base_uri": "https://localhost:8080/",
          "height": 206
        }
      },
      "execution_count": 154,
      "outputs": [
        {
          "output_type": "execute_result",
          "data": {
            "text/plain": [
              "   Gross.Floor.Area...Buildings..sq.ft.  Year.Built  X..of.Buildings\n",
              "0                               99000.0        2000                1\n",
              "1                               92072.0        2014                1\n",
              "2                              136000.0        1924                1\n",
              "3                              182246.0        1964                1\n",
              "4                              193497.0        1930                1"
            ],
            "text/html": [
              "\n",
              "  <div id=\"df-4e9ee4bc-3a31-4a1b-abe3-54fbedb071e0\">\n",
              "    <div class=\"colab-df-container\">\n",
              "      <div>\n",
              "<style scoped>\n",
              "    .dataframe tbody tr th:only-of-type {\n",
              "        vertical-align: middle;\n",
              "    }\n",
              "\n",
              "    .dataframe tbody tr th {\n",
              "        vertical-align: top;\n",
              "    }\n",
              "\n",
              "    .dataframe thead th {\n",
              "        text-align: right;\n",
              "    }\n",
              "</style>\n",
              "<table border=\"1\" class=\"dataframe\">\n",
              "  <thead>\n",
              "    <tr style=\"text-align: right;\">\n",
              "      <th></th>\n",
              "      <th>Gross.Floor.Area...Buildings..sq.ft.</th>\n",
              "      <th>Year.Built</th>\n",
              "      <th>X..of.Buildings</th>\n",
              "    </tr>\n",
              "  </thead>\n",
              "  <tbody>\n",
              "    <tr>\n",
              "      <th>0</th>\n",
              "      <td>99000.0</td>\n",
              "      <td>2000</td>\n",
              "      <td>1</td>\n",
              "    </tr>\n",
              "    <tr>\n",
              "      <th>1</th>\n",
              "      <td>92072.0</td>\n",
              "      <td>2014</td>\n",
              "      <td>1</td>\n",
              "    </tr>\n",
              "    <tr>\n",
              "      <th>2</th>\n",
              "      <td>136000.0</td>\n",
              "      <td>1924</td>\n",
              "      <td>1</td>\n",
              "    </tr>\n",
              "    <tr>\n",
              "      <th>3</th>\n",
              "      <td>182246.0</td>\n",
              "      <td>1964</td>\n",
              "      <td>1</td>\n",
              "    </tr>\n",
              "    <tr>\n",
              "      <th>4</th>\n",
              "      <td>193497.0</td>\n",
              "      <td>1930</td>\n",
              "      <td>1</td>\n",
              "    </tr>\n",
              "  </tbody>\n",
              "</table>\n",
              "</div>\n",
              "      <button class=\"colab-df-convert\" onclick=\"convertToInteractive('df-4e9ee4bc-3a31-4a1b-abe3-54fbedb071e0')\"\n",
              "              title=\"Convert this dataframe to an interactive table.\"\n",
              "              style=\"display:none;\">\n",
              "        \n",
              "  <svg xmlns=\"http://www.w3.org/2000/svg\" height=\"24px\"viewBox=\"0 0 24 24\"\n",
              "       width=\"24px\">\n",
              "    <path d=\"M0 0h24v24H0V0z\" fill=\"none\"/>\n",
              "    <path d=\"M18.56 5.44l.94 2.06.94-2.06 2.06-.94-2.06-.94-.94-2.06-.94 2.06-2.06.94zm-11 1L8.5 8.5l.94-2.06 2.06-.94-2.06-.94L8.5 2.5l-.94 2.06-2.06.94zm10 10l.94 2.06.94-2.06 2.06-.94-2.06-.94-.94-2.06-.94 2.06-2.06.94z\"/><path d=\"M17.41 7.96l-1.37-1.37c-.4-.4-.92-.59-1.43-.59-.52 0-1.04.2-1.43.59L10.3 9.45l-7.72 7.72c-.78.78-.78 2.05 0 2.83L4 21.41c.39.39.9.59 1.41.59.51 0 1.02-.2 1.41-.59l7.78-7.78 2.81-2.81c.8-.78.8-2.07 0-2.86zM5.41 20L4 18.59l7.72-7.72 1.47 1.35L5.41 20z\"/>\n",
              "  </svg>\n",
              "      </button>\n",
              "      \n",
              "  <style>\n",
              "    .colab-df-container {\n",
              "      display:flex;\n",
              "      flex-wrap:wrap;\n",
              "      gap: 12px;\n",
              "    }\n",
              "\n",
              "    .colab-df-convert {\n",
              "      background-color: #E8F0FE;\n",
              "      border: none;\n",
              "      border-radius: 50%;\n",
              "      cursor: pointer;\n",
              "      display: none;\n",
              "      fill: #1967D2;\n",
              "      height: 32px;\n",
              "      padding: 0 0 0 0;\n",
              "      width: 32px;\n",
              "    }\n",
              "\n",
              "    .colab-df-convert:hover {\n",
              "      background-color: #E2EBFA;\n",
              "      box-shadow: 0px 1px 2px rgba(60, 64, 67, 0.3), 0px 1px 3px 1px rgba(60, 64, 67, 0.15);\n",
              "      fill: #174EA6;\n",
              "    }\n",
              "\n",
              "    [theme=dark] .colab-df-convert {\n",
              "      background-color: #3B4455;\n",
              "      fill: #D2E3FC;\n",
              "    }\n",
              "\n",
              "    [theme=dark] .colab-df-convert:hover {\n",
              "      background-color: #434B5C;\n",
              "      box-shadow: 0px 1px 3px 1px rgba(0, 0, 0, 0.15);\n",
              "      filter: drop-shadow(0px 1px 2px rgba(0, 0, 0, 0.3));\n",
              "      fill: #FFFFFF;\n",
              "    }\n",
              "  </style>\n",
              "\n",
              "      <script>\n",
              "        const buttonEl =\n",
              "          document.querySelector('#df-4e9ee4bc-3a31-4a1b-abe3-54fbedb071e0 button.colab-df-convert');\n",
              "        buttonEl.style.display =\n",
              "          google.colab.kernel.accessAllowed ? 'block' : 'none';\n",
              "\n",
              "        async function convertToInteractive(key) {\n",
              "          const element = document.querySelector('#df-4e9ee4bc-3a31-4a1b-abe3-54fbedb071e0');\n",
              "          const dataTable =\n",
              "            await google.colab.kernel.invokeFunction('convertToInteractive',\n",
              "                                                     [key], {});\n",
              "          if (!dataTable) return;\n",
              "\n",
              "          const docLinkHtml = 'Like what you see? Visit the ' +\n",
              "            '<a target=\"_blank\" href=https://colab.research.google.com/notebooks/data_table.ipynb>data table notebook</a>'\n",
              "            + ' to learn more about interactive tables.';\n",
              "          element.innerHTML = '';\n",
              "          dataTable['output_type'] = 'display_data';\n",
              "          await google.colab.output.renderOutput(dataTable, element);\n",
              "          const docLink = document.createElement('div');\n",
              "          docLink.innerHTML = docLinkHtml;\n",
              "          element.appendChild(docLink);\n",
              "        }\n",
              "      </script>\n",
              "    </div>\n",
              "  </div>\n",
              "  "
            ]
          },
          "metadata": {},
          "execution_count": 154
        }
      ]
    },
    {
      "cell_type": "code",
      "source": [
        "X_DC_numeric_data.describe()"
      ],
      "metadata": {
        "id": "oCLGV84IICwN",
        "outputId": "90880f3b-f290-440b-f086-8ab805722f3f",
        "colab": {
          "base_uri": "https://localhost:8080/",
          "height": 300
        }
      },
      "execution_count": 155,
      "outputs": [
        {
          "output_type": "execute_result",
          "data": {
            "text/plain": [
              "              ward   year_built  tax_record_floor_area  \\\n",
              "count  1455.000000  1455.000000           1.455000e+03   \n",
              "mean      3.472852  1940.804811           2.046748e+05   \n",
              "std       2.047691   167.230361           2.451302e+05   \n",
              "min       1.000000  1000.000000           9.171000e+03   \n",
              "25%       2.000000  1947.000000           7.164000e+04   \n",
              "50%       2.000000  1971.000000           1.287720e+05   \n",
              "75%       5.000000  1994.000000           2.585310e+05   \n",
              "max       8.000000  2017.000000           3.997572e+06   \n",
              "\n",
              "       reported_gross_floor_area     water_use  \n",
              "count               1.455000e+03  1.455000e+03  \n",
              "mean                1.897612e+05  5.109905e+04  \n",
              "std                 2.436786e+05  6.163321e+05  \n",
              "min                 9.171000e+03  0.000000e+00  \n",
              "25%                 7.111750e+04  1.958050e+03  \n",
              "50%                 1.215530e+05  4.063800e+03  \n",
              "75%                 2.372130e+05  7.008700e+03  \n",
              "max                 5.634890e+06  1.929391e+07  "
            ],
            "text/html": [
              "\n",
              "  <div id=\"df-0d6e5e90-0523-484c-8d5d-84a418ba7795\">\n",
              "    <div class=\"colab-df-container\">\n",
              "      <div>\n",
              "<style scoped>\n",
              "    .dataframe tbody tr th:only-of-type {\n",
              "        vertical-align: middle;\n",
              "    }\n",
              "\n",
              "    .dataframe tbody tr th {\n",
              "        vertical-align: top;\n",
              "    }\n",
              "\n",
              "    .dataframe thead th {\n",
              "        text-align: right;\n",
              "    }\n",
              "</style>\n",
              "<table border=\"1\" class=\"dataframe\">\n",
              "  <thead>\n",
              "    <tr style=\"text-align: right;\">\n",
              "      <th></th>\n",
              "      <th>ward</th>\n",
              "      <th>year_built</th>\n",
              "      <th>tax_record_floor_area</th>\n",
              "      <th>reported_gross_floor_area</th>\n",
              "      <th>water_use</th>\n",
              "    </tr>\n",
              "  </thead>\n",
              "  <tbody>\n",
              "    <tr>\n",
              "      <th>count</th>\n",
              "      <td>1455.000000</td>\n",
              "      <td>1455.000000</td>\n",
              "      <td>1.455000e+03</td>\n",
              "      <td>1.455000e+03</td>\n",
              "      <td>1.455000e+03</td>\n",
              "    </tr>\n",
              "    <tr>\n",
              "      <th>mean</th>\n",
              "      <td>3.472852</td>\n",
              "      <td>1940.804811</td>\n",
              "      <td>2.046748e+05</td>\n",
              "      <td>1.897612e+05</td>\n",
              "      <td>5.109905e+04</td>\n",
              "    </tr>\n",
              "    <tr>\n",
              "      <th>std</th>\n",
              "      <td>2.047691</td>\n",
              "      <td>167.230361</td>\n",
              "      <td>2.451302e+05</td>\n",
              "      <td>2.436786e+05</td>\n",
              "      <td>6.163321e+05</td>\n",
              "    </tr>\n",
              "    <tr>\n",
              "      <th>min</th>\n",
              "      <td>1.000000</td>\n",
              "      <td>1000.000000</td>\n",
              "      <td>9.171000e+03</td>\n",
              "      <td>9.171000e+03</td>\n",
              "      <td>0.000000e+00</td>\n",
              "    </tr>\n",
              "    <tr>\n",
              "      <th>25%</th>\n",
              "      <td>2.000000</td>\n",
              "      <td>1947.000000</td>\n",
              "      <td>7.164000e+04</td>\n",
              "      <td>7.111750e+04</td>\n",
              "      <td>1.958050e+03</td>\n",
              "    </tr>\n",
              "    <tr>\n",
              "      <th>50%</th>\n",
              "      <td>2.000000</td>\n",
              "      <td>1971.000000</td>\n",
              "      <td>1.287720e+05</td>\n",
              "      <td>1.215530e+05</td>\n",
              "      <td>4.063800e+03</td>\n",
              "    </tr>\n",
              "    <tr>\n",
              "      <th>75%</th>\n",
              "      <td>5.000000</td>\n",
              "      <td>1994.000000</td>\n",
              "      <td>2.585310e+05</td>\n",
              "      <td>2.372130e+05</td>\n",
              "      <td>7.008700e+03</td>\n",
              "    </tr>\n",
              "    <tr>\n",
              "      <th>max</th>\n",
              "      <td>8.000000</td>\n",
              "      <td>2017.000000</td>\n",
              "      <td>3.997572e+06</td>\n",
              "      <td>5.634890e+06</td>\n",
              "      <td>1.929391e+07</td>\n",
              "    </tr>\n",
              "  </tbody>\n",
              "</table>\n",
              "</div>\n",
              "      <button class=\"colab-df-convert\" onclick=\"convertToInteractive('df-0d6e5e90-0523-484c-8d5d-84a418ba7795')\"\n",
              "              title=\"Convert this dataframe to an interactive table.\"\n",
              "              style=\"display:none;\">\n",
              "        \n",
              "  <svg xmlns=\"http://www.w3.org/2000/svg\" height=\"24px\"viewBox=\"0 0 24 24\"\n",
              "       width=\"24px\">\n",
              "    <path d=\"M0 0h24v24H0V0z\" fill=\"none\"/>\n",
              "    <path d=\"M18.56 5.44l.94 2.06.94-2.06 2.06-.94-2.06-.94-.94-2.06-.94 2.06-2.06.94zm-11 1L8.5 8.5l.94-2.06 2.06-.94-2.06-.94L8.5 2.5l-.94 2.06-2.06.94zm10 10l.94 2.06.94-2.06 2.06-.94-2.06-.94-.94-2.06-.94 2.06-2.06.94z\"/><path d=\"M17.41 7.96l-1.37-1.37c-.4-.4-.92-.59-1.43-.59-.52 0-1.04.2-1.43.59L10.3 9.45l-7.72 7.72c-.78.78-.78 2.05 0 2.83L4 21.41c.39.39.9.59 1.41.59.51 0 1.02-.2 1.41-.59l7.78-7.78 2.81-2.81c.8-.78.8-2.07 0-2.86zM5.41 20L4 18.59l7.72-7.72 1.47 1.35L5.41 20z\"/>\n",
              "  </svg>\n",
              "      </button>\n",
              "      \n",
              "  <style>\n",
              "    .colab-df-container {\n",
              "      display:flex;\n",
              "      flex-wrap:wrap;\n",
              "      gap: 12px;\n",
              "    }\n",
              "\n",
              "    .colab-df-convert {\n",
              "      background-color: #E8F0FE;\n",
              "      border: none;\n",
              "      border-radius: 50%;\n",
              "      cursor: pointer;\n",
              "      display: none;\n",
              "      fill: #1967D2;\n",
              "      height: 32px;\n",
              "      padding: 0 0 0 0;\n",
              "      width: 32px;\n",
              "    }\n",
              "\n",
              "    .colab-df-convert:hover {\n",
              "      background-color: #E2EBFA;\n",
              "      box-shadow: 0px 1px 2px rgba(60, 64, 67, 0.3), 0px 1px 3px 1px rgba(60, 64, 67, 0.15);\n",
              "      fill: #174EA6;\n",
              "    }\n",
              "\n",
              "    [theme=dark] .colab-df-convert {\n",
              "      background-color: #3B4455;\n",
              "      fill: #D2E3FC;\n",
              "    }\n",
              "\n",
              "    [theme=dark] .colab-df-convert:hover {\n",
              "      background-color: #434B5C;\n",
              "      box-shadow: 0px 1px 3px 1px rgba(0, 0, 0, 0.15);\n",
              "      filter: drop-shadow(0px 1px 2px rgba(0, 0, 0, 0.3));\n",
              "      fill: #FFFFFF;\n",
              "    }\n",
              "  </style>\n",
              "\n",
              "      <script>\n",
              "        const buttonEl =\n",
              "          document.querySelector('#df-0d6e5e90-0523-484c-8d5d-84a418ba7795 button.colab-df-convert');\n",
              "        buttonEl.style.display =\n",
              "          google.colab.kernel.accessAllowed ? 'block' : 'none';\n",
              "\n",
              "        async function convertToInteractive(key) {\n",
              "          const element = document.querySelector('#df-0d6e5e90-0523-484c-8d5d-84a418ba7795');\n",
              "          const dataTable =\n",
              "            await google.colab.kernel.invokeFunction('convertToInteractive',\n",
              "                                                     [key], {});\n",
              "          if (!dataTable) return;\n",
              "\n",
              "          const docLinkHtml = 'Like what you see? Visit the ' +\n",
              "            '<a target=\"_blank\" href=https://colab.research.google.com/notebooks/data_table.ipynb>data table notebook</a>'\n",
              "            + ' to learn more about interactive tables.';\n",
              "          element.innerHTML = '';\n",
              "          dataTable['output_type'] = 'display_data';\n",
              "          await google.colab.output.renderOutput(dataTable, element);\n",
              "          const docLink = document.createElement('div');\n",
              "          docLink.innerHTML = docLinkHtml;\n",
              "          element.appendChild(docLink);\n",
              "        }\n",
              "      </script>\n",
              "    </div>\n",
              "  </div>\n",
              "  "
            ]
          },
          "metadata": {},
          "execution_count": 155
        }
      ]
    },
    {
      "cell_type": "code",
      "source": [
        "# this does not have to be identical to my output as you may have dropped different variables\n",
        "\n",
        "print(\"There are (rows, columns) = \", X_chicago_numeric_data.shape, \" for the city of Chicago in the numerical variables\")\n",
        "print(\"There are (rows, columns) = \", X_DC_numeric_data.shape, \" for the city of DC in the numerical variables\")"
      ],
      "metadata": {
        "colab": {
          "base_uri": "https://localhost:8080/"
        },
        "id": "cbChlcXUG2rI",
        "outputId": "8e5ea1f7-4d72-45c1-9705-ddce12c31d58"
      },
      "execution_count": 156,
      "outputs": [
        {
          "output_type": "stream",
          "name": "stdout",
          "text": [
            "There are (rows, columns) =  (2688, 3)  for the city of Chicago in the numerical variables\n",
            "There are (rows, columns) =  (1455, 5)  for the city of DC in the numerical variables\n"
          ]
        }
      ]
    },
    {
      "cell_type": "markdown",
      "source": [
        "As they do in the original research https://github.com/Urban-Informatics-Lab/Open-Data-Benchmarking/blob/master/Lasso_RandomForest.Rmd we should transform some variables into their log values \n",
        "\n",
        "their original code (which is in R not in python!) is\n",
        "```\n",
        "x_seattle$log_total_area=log(x_seattle$gross_floor_area_total_SF)\n",
        "x_seattle$log_parking_area=log(x_seattle$gross_floor_area_parking_SF)\n",
        "x_seattle$log_bldg_area=log(x_seattle$gross_floor_area_building_SF)\n",
        "x_seattle$log_area_1=log(x_seattle$gross_floor_area_property_type_first_SF)\n",
        "\n",
        "```\n",
        "the names are a bit different\n"
      ],
      "metadata": {
        "id": "hVYsiqOK8SJp"
      }
    },
    {
      "cell_type": "code",
      "source": [
        "# note: recheck missing values \n",
        "# this is important: after I apply the log function to some variables cause log(0) = -infinity\n",
        "\n",
        "\n",
        "print(\"There are {} missing or infinity values in the numerical data for the city of Chicago\".format(X_chicago_numeric_data.isnull().sum().sum()))\n",
        "print(\"There are {} missing or infinity values in the numerical data for the city of DC\".format(X_DC_numeric_data.isnull().sum().sum()))"
      ],
      "metadata": {
        "colab": {
          "base_uri": "https://localhost:8080/"
        },
        "id": "_1Zul4fDAiip",
        "outputId": "78c77b93-7b1b-4c62-982a-4f994465c010"
      },
      "execution_count": 157,
      "outputs": [
        {
          "output_type": "stream",
          "name": "stdout",
          "text": [
            "There are 0 missing or infinity values in the numerical data for the city of Chicago\n",
            "There are 0 missing or infinity values in the numerical data for the city of DC\n"
          ]
        }
      ]
    },
    {
      "cell_type": "code",
      "source": [
        "# translated to python\n",
        "#X_numeric_data[\"PropertyGFATotal\"] = np.log10(X_numeric_data[\"PropertyGFATotal\"])\n",
        "\n",
        "# Chicago\n",
        "X_chicago_numeric_data[\"log_total_area\"] = np.log10(X_chicago_numeric_data[\"Gross.Floor.Area...Buildings..sq.ft.\"])\n",
        "\n",
        "# DC\n",
        "X_DC_numeric_data[\"log_floor_area_tax\"] = np.log10(X_DC_numeric_data[\"tax_record_floor_area\"])"
      ],
      "metadata": {
        "id": "ctHl1vEQAG8Z",
        "outputId": "855047dc-0d19-4421-e555-42d5819a2ed1",
        "colab": {
          "base_uri": "https://localhost:8080/"
        }
      },
      "execution_count": 158,
      "outputs": [
        {
          "output_type": "stream",
          "name": "stderr",
          "text": [
            "/usr/local/lib/python3.7/dist-packages/ipykernel_launcher.py:8: SettingWithCopyWarning: \n",
            "A value is trying to be set on a copy of a slice from a DataFrame.\n",
            "Try using .loc[row_indexer,col_indexer] = value instead\n",
            "\n",
            "See the caveats in the documentation: https://pandas.pydata.org/pandas-docs/stable/user_guide/indexing.html#returning-a-view-versus-a-copy\n",
            "  \n"
          ]
        }
      ]
    },
    {
      "cell_type": "code",
      "source": [
        "print(\"The number of infinite values for Chicago is :\", (np.isinf(X_chicago_numeric_data)).sum().sum())\n",
        "print(\"The number of infinite values for DC is:\", (np.isinf(X_DC_numeric_data)).sum().sum())\n"
      ],
      "metadata": {
        "id": "RkNEiGU5vzxz",
        "outputId": "f87d9dfb-ddb8-4d49-906a-a6fc1a2ef2d8",
        "colab": {
          "base_uri": "https://localhost:8080/"
        }
      },
      "execution_count": 159,
      "outputs": [
        {
          "output_type": "stream",
          "name": "stdout",
          "text": [
            "The number of infinite values for Chicago is : 0\n",
            "The number of infinite values for DC is: 0\n"
          ]
        }
      ]
    },
    {
      "cell_type": "markdown",
      "metadata": {
        "id": "Da-93SxbMFCX"
      },
      "source": [
        "check what happened to missing values: they may have grown! because  log(0) = -infinity - fix infinities replacing them with NaN \n",
        "\n",
        "(in in https://github.com/Urban-Informatics-Lab/Open-Data-Benchmarking/blob/master/Lasso_RandomForest.Rmd they had replaced them with 0 but I object to that)"
      ]
    },
    {
      "cell_type": "code",
      "source": [
        "#For my work here the missing values did not grow, they remained zero as seen above. So i still do the code below for the sake of learning how to do it.\n",
        "\n",
        "# this has to return 0 now\n",
        "\n",
        "# Chicago\n",
        "X_chicago_numeric_data.replace(-np.inf, np.nan, inplace=True)\n",
        "print(\"The number of infinite values for Chicago is:\", (np.isinf(X_chicago_numeric_data)).sum().sum())\n",
        "\n",
        "# DC\n",
        "X_DC_numeric_data.replace(-np.inf, np.nan, inplace=True)\n",
        "print(\"The number of infinite values for DC is:\", (np.isinf(X_DC_numeric_data)).sum().sum())\n"
      ],
      "metadata": {
        "colab": {
          "base_uri": "https://localhost:8080/"
        },
        "id": "qRz_WdUVutWc",
        "outputId": "d68d8d07-b7ff-4d2c-864e-265d7b0ac008"
      },
      "execution_count": 160,
      "outputs": [
        {
          "output_type": "stream",
          "name": "stdout",
          "text": [
            "The number of infinite values for Chicago is: 0\n",
            "The number of infinite values for DC is: 0\n"
          ]
        },
        {
          "output_type": "stream",
          "name": "stderr",
          "text": [
            "/usr/local/lib/python3.7/dist-packages/pandas/core/frame.py:5244: SettingWithCopyWarning: \n",
            "A value is trying to be set on a copy of a slice from a DataFrame\n",
            "\n",
            "See the caveats in the documentation: https://pandas.pydata.org/pandas-docs/stable/user_guide/indexing.html#returning-a-view-versus-a-copy\n",
            "  method=method,\n"
          ]
        }
      ]
    },
    {
      "cell_type": "code",
      "source": [
        "print(\"The Chicago numerical data contains (rows, columns) = \", X_chicago_numeric_data.shape)\n",
        "print(\"there are {} missing values in the numerical data\".format(X_chicago_numeric_data.isnull().sum().sum()))\n",
        "\n",
        "print(\"The DC numerical data contains (rows, columns) = \", X_DC_numeric_data.shape)\n",
        "print(\"there are {} missing values in the numerical data\".format(X_DC_numeric_data.isnull().sum().sum()))\n",
        "\n"
      ],
      "metadata": {
        "colab": {
          "base_uri": "https://localhost:8080/"
        },
        "id": "hBYQpTJrBZK4",
        "outputId": "fd4ba0a4-5846-47db-dd01-4e349f89ae89"
      },
      "execution_count": 161,
      "outputs": [
        {
          "output_type": "stream",
          "name": "stdout",
          "text": [
            "The Chicago numerical data contains (rows, columns) =  (2688, 4)\n",
            "there are 0 missing values in the numerical data\n",
            "The DC numerical data contains (rows, columns) =  (1455, 6)\n",
            "there are 0 missing values in the numerical data\n"
          ]
        }
      ]
    },
    {
      "cell_type": "markdown",
      "source": [
        "\n",
        "you can use `KNNImputer` on the numerical variables, but KNNImputer would fail on categorical variables so you are left with NaNs on categorical variables, which you then need to drop before you run the Random Forest\n",
        "\n",
        "\n",
        "You can impute separately the numerical and categorical variables, the numerical ones with KNNImputer and the categorical ones with SimpleImputer"
      ],
      "metadata": {
        "id": "QbpwzPij5A8z"
      }
    },
    {
      "cell_type": "markdown",
      "metadata": {
        "id": "dfQnS9eVZ7A4"
      },
      "source": [
        "## TASK 2.2 use Nearest Neighbor Imputer to impute missing values in numerical features\n",
        "\n",
        "here we are deviating from the paper. NN imputation is simpler and more common, I think it may be more useful to you in general"
      ]
    },
    {
      "cell_type": "code",
      "metadata": {
        "id": "gNLiSt1fOCz4",
        "colab": {
          "base_uri": "https://localhost:8080/"
        },
        "outputId": "30e0abaa-9856-4596-e244-dea928d9cdda"
      },
      "source": [
        "#Since there are no missing values in Chicago and DC data, I just use it here for practice sake.\n",
        "\n",
        "from sklearn.impute import KNNImputer\n",
        "\n",
        "imputer = KNNImputer(n_neighbors=3, weights=\"distance\")\n",
        "\n",
        "Xn_chicago = imputer.fit_transform(X_chicago_numeric_data)\n",
        "Xn_chicago\n"
      ],
      "execution_count": 162,
      "outputs": [
        {
          "output_type": "execute_result",
          "data": {
            "text/plain": [
              "array([[9.90000000e+04, 2.00000000e+03, 1.00000000e+00, 4.99563519e+00],\n",
              "       [9.20720000e+04, 2.01400000e+03, 1.00000000e+00, 4.96412758e+00],\n",
              "       [1.36000000e+05, 1.92400000e+03, 1.00000000e+00, 5.13353891e+00],\n",
              "       ...,\n",
              "       [9.52040000e+04, 2.00800000e+03, 1.00000000e+00, 4.97865520e+00],\n",
              "       [6.00000000e+04, 1.90800000e+03, 1.00000000e+00, 4.77815125e+00],\n",
              "       [3.09056000e+05, 1.92800000e+03, 1.00000000e+00, 5.49003718e+00]])"
            ]
          },
          "metadata": {},
          "execution_count": 162
        }
      ]
    },
    {
      "cell_type": "code",
      "source": [
        "from sklearn.impute import KNNImputer\n",
        "\n",
        "imputer = KNNImputer(n_neighbors=3, weights=\"distance\")\n",
        "\n",
        "Xn_DC = imputer.fit_transform(X_DC_numeric_data)\n",
        "Xn_DC"
      ],
      "metadata": {
        "id": "0No3I2ltKrT6",
        "outputId": "16ada7f3-17e2-4cff-b21a-15292c41168f",
        "colab": {
          "base_uri": "https://localhost:8080/"
        }
      },
      "execution_count": 163,
      "outputs": [
        {
          "output_type": "execute_result",
          "data": {
            "text/plain": [
              "array([[4.00000000e+00, 1.95900000e+03, 6.32270000e+04, 6.50000000e+04,\n",
              "        6.96350000e+03, 4.80090258e+00],\n",
              "       [2.00000000e+00, 1.99700000e+03, 2.51557000e+05, 2.57943000e+05,\n",
              "        8.49000000e+03, 5.40063641e+00],\n",
              "       [2.00000000e+00, 1.96400000e+03, 3.30550000e+05, 2.23218000e+05,\n",
              "        8.74910000e+03, 5.51923716e+00],\n",
              "       ...,\n",
              "       [5.00000000e+00, 2.01400000e+03, 1.96755000e+05, 1.96755000e+05,\n",
              "        1.10794000e+04, 5.29392578e+00],\n",
              "       [1.00000000e+00, 1.97900000e+03, 1.09527500e+06, 1.45000000e+05,\n",
              "        1.42185000e+04, 6.03952317e+00],\n",
              "       [1.00000000e+00, 1.99400000e+03, 1.90514000e+05, 2.25000000e+05,\n",
              "        1.30902000e+04, 5.27992690e+00]])"
            ]
          },
          "metadata": {},
          "execution_count": 163
        }
      ]
    },
    {
      "cell_type": "markdown",
      "metadata": {
        "id": "mW5GNpU0aFIO"
      },
      "source": [
        "## TASK 2.3 Impute missing categorial variables \n",
        "you will have to remove Nan values and replace them. \n",
        "\n",
        "You can use `sklearn.impute.SimpleImputer using strategy=\"most_frequent\"` on all variables, but you will have a naif solution for numerical imputations\n",
        "\n",
        "I prefer to replace them with \"None\" or a similar string, for which you can use the fillna method: ```df.fillna(\"None\")``` and leave it at that or with a little more effort you can input values based on nearest neighbors or some other inputation scheme. any choice goes so long as it is well described and justified with words."
      ]
    },
    {
      "cell_type": "code",
      "source": [
        "#checking if Chicago has NaNs\n",
        "\n",
        "X_chicago_categorical_data.info()\n"
      ],
      "metadata": {
        "id": "ndpBVLdqY4XH",
        "colab": {
          "base_uri": "https://localhost:8080/"
        },
        "outputId": "9b19ce4b-2cbd-47c4-87af-806add2e5a38"
      },
      "execution_count": 164,
      "outputs": [
        {
          "output_type": "stream",
          "name": "stdout",
          "text": [
            "<class 'pandas.core.frame.DataFrame'>\n",
            "Int64Index: 2688 entries, 0 to 2687\n",
            "Data columns (total 1 columns):\n",
            " #   Column                 Non-Null Count  Dtype \n",
            "---  ------                 --------------  ----- \n",
            " 0   Primary.Property.Type  2688 non-null   object\n",
            "dtypes: object(1)\n",
            "memory usage: 106.5+ KB\n"
          ]
        }
      ]
    },
    {
      "cell_type": "markdown",
      "source": [
        "Chicago has no NaN in categorical variables\n",
        "\n",
        "---\n",
        "\n"
      ],
      "metadata": {
        "id": "J_CzDbffLiUC"
      }
    },
    {
      "cell_type": "code",
      "source": [
        "#checking if DC has NaNs\n",
        "\n",
        "X_DC_categorical_data.info()\n"
      ],
      "metadata": {
        "id": "8ztVmbXrLbBd",
        "outputId": "cfeb10e8-f255-4dca-dd28-c7379c65b2fb",
        "colab": {
          "base_uri": "https://localhost:8080/"
        }
      },
      "execution_count": 165,
      "outputs": [
        {
          "output_type": "stream",
          "name": "stdout",
          "text": [
            "<class 'pandas.core.frame.DataFrame'>\n",
            "Int64Index: 1455 entries, 0 to 1454\n",
            "Data columns (total 6 columns):\n",
            " #   Column                Non-Null Count  Dtype \n",
            "---  ------                --------------  ----- \n",
            " 0   report_status         1455 non-null   object\n",
            " 1   postal_code           1455 non-null   object\n",
            " 2   primary_ptype_self    1455 non-null   object\n",
            " 3   primary_ptype_epa     1455 non-null   object\n",
            " 4   metered_areas_energy  1455 non-null   object\n",
            " 5   metered_areas_water   1455 non-null   object\n",
            "dtypes: object(6)\n",
            "memory usage: 111.9+ KB\n"
          ]
        }
      ]
    },
    {
      "cell_type": "markdown",
      "source": [
        "Just like Chicago, DC also, has no NaN in categorical variables. So, I do not need to Impute missing categorial variables.\n",
        "\n"
      ],
      "metadata": {
        "id": "Wfoqby3NMAlp"
      }
    },
    {
      "cell_type": "code",
      "source": [
        "X_chicago_categorical_data.info()"
      ],
      "metadata": {
        "id": "7Xud35YWMqwA",
        "outputId": "783dbe42-0585-4e26-ed20-dae1afc4e78a",
        "colab": {
          "base_uri": "https://localhost:8080/"
        }
      },
      "execution_count": 166,
      "outputs": [
        {
          "output_type": "stream",
          "name": "stdout",
          "text": [
            "<class 'pandas.core.frame.DataFrame'>\n",
            "Int64Index: 2688 entries, 0 to 2687\n",
            "Data columns (total 1 columns):\n",
            " #   Column                 Non-Null Count  Dtype \n",
            "---  ------                 --------------  ----- \n",
            " 0   Primary.Property.Type  2688 non-null   object\n",
            "dtypes: object(1)\n",
            "memory usage: 106.5+ KB\n"
          ]
        }
      ]
    },
    {
      "cell_type": "code",
      "source": [
        "X_DC_categorical_data.info()"
      ],
      "metadata": {
        "id": "WrOgRLNbMxPk",
        "outputId": "eee7e9cc-1eb0-4641-ae99-aa9777b9e073",
        "colab": {
          "base_uri": "https://localhost:8080/"
        }
      },
      "execution_count": 167,
      "outputs": [
        {
          "output_type": "stream",
          "name": "stdout",
          "text": [
            "<class 'pandas.core.frame.DataFrame'>\n",
            "Int64Index: 1455 entries, 0 to 1454\n",
            "Data columns (total 6 columns):\n",
            " #   Column                Non-Null Count  Dtype \n",
            "---  ------                --------------  ----- \n",
            " 0   report_status         1455 non-null   object\n",
            " 1   postal_code           1455 non-null   object\n",
            " 2   primary_ptype_self    1455 non-null   object\n",
            " 3   primary_ptype_epa     1455 non-null   object\n",
            " 4   metered_areas_energy  1455 non-null   object\n",
            " 5   metered_areas_water   1455 non-null   object\n",
            "dtypes: object(6)\n",
            "memory usage: 111.9+ KB\n"
          ]
        }
      ]
    },
    {
      "cell_type": "markdown",
      "source": [
        "# TASK 3 One Hot Encode the Categorical Variables\n",
        "\n",
        "Hint: Once you have done the fit and the transformation, which gives you the transformed data according to the new encoding, what you get is normally a sparse matrix. In principle there is an argument `sparse` to `OneHotEncoder` which should prevent this and give you a dense matrix, which is much easier to handle (consider asking me or looking up what is a sparse matrix!). That attribute did not work for me so once I applied the new encoding I converted the result to a dense matrix as \n",
        "`Xc = Xc.todense()`\n",
        "\n",
        "Finally, you will need to use a specific method to get the new names of the variables. Its a method of your model (which I called ohe below) and you can find it in this page here https://scikit-learn.org/stable/modules/generated/sklearn.preprocessing.OneHotEncoder.html"
      ],
      "metadata": {
        "id": "7ryRb65ux_rX"
      }
    },
    {
      "cell_type": "code",
      "source": [
        "X_chicago_categorical_data.describe()"
      ],
      "metadata": {
        "colab": {
          "base_uri": "https://localhost:8080/",
          "height": 175
        },
        "id": "TdW9a2K7zzey",
        "outputId": "a9d6351f-0e84-465c-e5d4-41f14aaa59e6"
      },
      "execution_count": 168,
      "outputs": [
        {
          "output_type": "execute_result",
          "data": {
            "text/plain": [
              "       Primary.Property.Type\n",
              "count                   2688\n",
              "unique                    47\n",
              "top      Multifamily Housing\n",
              "freq                    1334"
            ],
            "text/html": [
              "\n",
              "  <div id=\"df-78a24f92-f2a4-4e53-90bd-4a1615907e5e\">\n",
              "    <div class=\"colab-df-container\">\n",
              "      <div>\n",
              "<style scoped>\n",
              "    .dataframe tbody tr th:only-of-type {\n",
              "        vertical-align: middle;\n",
              "    }\n",
              "\n",
              "    .dataframe tbody tr th {\n",
              "        vertical-align: top;\n",
              "    }\n",
              "\n",
              "    .dataframe thead th {\n",
              "        text-align: right;\n",
              "    }\n",
              "</style>\n",
              "<table border=\"1\" class=\"dataframe\">\n",
              "  <thead>\n",
              "    <tr style=\"text-align: right;\">\n",
              "      <th></th>\n",
              "      <th>Primary.Property.Type</th>\n",
              "    </tr>\n",
              "  </thead>\n",
              "  <tbody>\n",
              "    <tr>\n",
              "      <th>count</th>\n",
              "      <td>2688</td>\n",
              "    </tr>\n",
              "    <tr>\n",
              "      <th>unique</th>\n",
              "      <td>47</td>\n",
              "    </tr>\n",
              "    <tr>\n",
              "      <th>top</th>\n",
              "      <td>Multifamily Housing</td>\n",
              "    </tr>\n",
              "    <tr>\n",
              "      <th>freq</th>\n",
              "      <td>1334</td>\n",
              "    </tr>\n",
              "  </tbody>\n",
              "</table>\n",
              "</div>\n",
              "      <button class=\"colab-df-convert\" onclick=\"convertToInteractive('df-78a24f92-f2a4-4e53-90bd-4a1615907e5e')\"\n",
              "              title=\"Convert this dataframe to an interactive table.\"\n",
              "              style=\"display:none;\">\n",
              "        \n",
              "  <svg xmlns=\"http://www.w3.org/2000/svg\" height=\"24px\"viewBox=\"0 0 24 24\"\n",
              "       width=\"24px\">\n",
              "    <path d=\"M0 0h24v24H0V0z\" fill=\"none\"/>\n",
              "    <path d=\"M18.56 5.44l.94 2.06.94-2.06 2.06-.94-2.06-.94-.94-2.06-.94 2.06-2.06.94zm-11 1L8.5 8.5l.94-2.06 2.06-.94-2.06-.94L8.5 2.5l-.94 2.06-2.06.94zm10 10l.94 2.06.94-2.06 2.06-.94-2.06-.94-.94-2.06-.94 2.06-2.06.94z\"/><path d=\"M17.41 7.96l-1.37-1.37c-.4-.4-.92-.59-1.43-.59-.52 0-1.04.2-1.43.59L10.3 9.45l-7.72 7.72c-.78.78-.78 2.05 0 2.83L4 21.41c.39.39.9.59 1.41.59.51 0 1.02-.2 1.41-.59l7.78-7.78 2.81-2.81c.8-.78.8-2.07 0-2.86zM5.41 20L4 18.59l7.72-7.72 1.47 1.35L5.41 20z\"/>\n",
              "  </svg>\n",
              "      </button>\n",
              "      \n",
              "  <style>\n",
              "    .colab-df-container {\n",
              "      display:flex;\n",
              "      flex-wrap:wrap;\n",
              "      gap: 12px;\n",
              "    }\n",
              "\n",
              "    .colab-df-convert {\n",
              "      background-color: #E8F0FE;\n",
              "      border: none;\n",
              "      border-radius: 50%;\n",
              "      cursor: pointer;\n",
              "      display: none;\n",
              "      fill: #1967D2;\n",
              "      height: 32px;\n",
              "      padding: 0 0 0 0;\n",
              "      width: 32px;\n",
              "    }\n",
              "\n",
              "    .colab-df-convert:hover {\n",
              "      background-color: #E2EBFA;\n",
              "      box-shadow: 0px 1px 2px rgba(60, 64, 67, 0.3), 0px 1px 3px 1px rgba(60, 64, 67, 0.15);\n",
              "      fill: #174EA6;\n",
              "    }\n",
              "\n",
              "    [theme=dark] .colab-df-convert {\n",
              "      background-color: #3B4455;\n",
              "      fill: #D2E3FC;\n",
              "    }\n",
              "\n",
              "    [theme=dark] .colab-df-convert:hover {\n",
              "      background-color: #434B5C;\n",
              "      box-shadow: 0px 1px 3px 1px rgba(0, 0, 0, 0.15);\n",
              "      filter: drop-shadow(0px 1px 2px rgba(0, 0, 0, 0.3));\n",
              "      fill: #FFFFFF;\n",
              "    }\n",
              "  </style>\n",
              "\n",
              "      <script>\n",
              "        const buttonEl =\n",
              "          document.querySelector('#df-78a24f92-f2a4-4e53-90bd-4a1615907e5e button.colab-df-convert');\n",
              "        buttonEl.style.display =\n",
              "          google.colab.kernel.accessAllowed ? 'block' : 'none';\n",
              "\n",
              "        async function convertToInteractive(key) {\n",
              "          const element = document.querySelector('#df-78a24f92-f2a4-4e53-90bd-4a1615907e5e');\n",
              "          const dataTable =\n",
              "            await google.colab.kernel.invokeFunction('convertToInteractive',\n",
              "                                                     [key], {});\n",
              "          if (!dataTable) return;\n",
              "\n",
              "          const docLinkHtml = 'Like what you see? Visit the ' +\n",
              "            '<a target=\"_blank\" href=https://colab.research.google.com/notebooks/data_table.ipynb>data table notebook</a>'\n",
              "            + ' to learn more about interactive tables.';\n",
              "          element.innerHTML = '';\n",
              "          dataTable['output_type'] = 'display_data';\n",
              "          await google.colab.output.renderOutput(dataTable, element);\n",
              "          const docLink = document.createElement('div');\n",
              "          docLink.innerHTML = docLinkHtml;\n",
              "          element.appendChild(docLink);\n",
              "        }\n",
              "      </script>\n",
              "    </div>\n",
              "  </div>\n",
              "  "
            ]
          },
          "metadata": {},
          "execution_count": 168
        }
      ]
    },
    {
      "cell_type": "code",
      "source": [
        "X_DC_categorical_data.describe()"
      ],
      "metadata": {
        "id": "CBZ4WKHGPDyH",
        "outputId": "37356ccd-b9fa-4ace-e6bd-b9b3aeb5b507",
        "colab": {
          "base_uri": "https://localhost:8080/",
          "height": 175
        }
      },
      "execution_count": 169,
      "outputs": [
        {
          "output_type": "execute_result",
          "data": {
            "text/plain": [
              "        report_status postal_code primary_ptype_self    primary_ptype_epa  \\\n",
              "count            1455        1455               1455                 1455   \n",
              "unique              2          52                 45                   45   \n",
              "top     In Compliance       20005             Office  Multifamily Housing   \n",
              "freq             1411         139                490                  485   \n",
              "\n",
              "       metered_areas_energy metered_areas_water  \n",
              "count                  1455                1455  \n",
              "unique                    3                   3  \n",
              "top          Whole Building      Whole Building  \n",
              "freq                   1434                1434  "
            ],
            "text/html": [
              "\n",
              "  <div id=\"df-c8dbed51-353b-4f93-ac70-261cc94787c0\">\n",
              "    <div class=\"colab-df-container\">\n",
              "      <div>\n",
              "<style scoped>\n",
              "    .dataframe tbody tr th:only-of-type {\n",
              "        vertical-align: middle;\n",
              "    }\n",
              "\n",
              "    .dataframe tbody tr th {\n",
              "        vertical-align: top;\n",
              "    }\n",
              "\n",
              "    .dataframe thead th {\n",
              "        text-align: right;\n",
              "    }\n",
              "</style>\n",
              "<table border=\"1\" class=\"dataframe\">\n",
              "  <thead>\n",
              "    <tr style=\"text-align: right;\">\n",
              "      <th></th>\n",
              "      <th>report_status</th>\n",
              "      <th>postal_code</th>\n",
              "      <th>primary_ptype_self</th>\n",
              "      <th>primary_ptype_epa</th>\n",
              "      <th>metered_areas_energy</th>\n",
              "      <th>metered_areas_water</th>\n",
              "    </tr>\n",
              "  </thead>\n",
              "  <tbody>\n",
              "    <tr>\n",
              "      <th>count</th>\n",
              "      <td>1455</td>\n",
              "      <td>1455</td>\n",
              "      <td>1455</td>\n",
              "      <td>1455</td>\n",
              "      <td>1455</td>\n",
              "      <td>1455</td>\n",
              "    </tr>\n",
              "    <tr>\n",
              "      <th>unique</th>\n",
              "      <td>2</td>\n",
              "      <td>52</td>\n",
              "      <td>45</td>\n",
              "      <td>45</td>\n",
              "      <td>3</td>\n",
              "      <td>3</td>\n",
              "    </tr>\n",
              "    <tr>\n",
              "      <th>top</th>\n",
              "      <td>In Compliance</td>\n",
              "      <td>20005</td>\n",
              "      <td>Office</td>\n",
              "      <td>Multifamily Housing</td>\n",
              "      <td>Whole Building</td>\n",
              "      <td>Whole Building</td>\n",
              "    </tr>\n",
              "    <tr>\n",
              "      <th>freq</th>\n",
              "      <td>1411</td>\n",
              "      <td>139</td>\n",
              "      <td>490</td>\n",
              "      <td>485</td>\n",
              "      <td>1434</td>\n",
              "      <td>1434</td>\n",
              "    </tr>\n",
              "  </tbody>\n",
              "</table>\n",
              "</div>\n",
              "      <button class=\"colab-df-convert\" onclick=\"convertToInteractive('df-c8dbed51-353b-4f93-ac70-261cc94787c0')\"\n",
              "              title=\"Convert this dataframe to an interactive table.\"\n",
              "              style=\"display:none;\">\n",
              "        \n",
              "  <svg xmlns=\"http://www.w3.org/2000/svg\" height=\"24px\"viewBox=\"0 0 24 24\"\n",
              "       width=\"24px\">\n",
              "    <path d=\"M0 0h24v24H0V0z\" fill=\"none\"/>\n",
              "    <path d=\"M18.56 5.44l.94 2.06.94-2.06 2.06-.94-2.06-.94-.94-2.06-.94 2.06-2.06.94zm-11 1L8.5 8.5l.94-2.06 2.06-.94-2.06-.94L8.5 2.5l-.94 2.06-2.06.94zm10 10l.94 2.06.94-2.06 2.06-.94-2.06-.94-.94-2.06-.94 2.06-2.06.94z\"/><path d=\"M17.41 7.96l-1.37-1.37c-.4-.4-.92-.59-1.43-.59-.52 0-1.04.2-1.43.59L10.3 9.45l-7.72 7.72c-.78.78-.78 2.05 0 2.83L4 21.41c.39.39.9.59 1.41.59.51 0 1.02-.2 1.41-.59l7.78-7.78 2.81-2.81c.8-.78.8-2.07 0-2.86zM5.41 20L4 18.59l7.72-7.72 1.47 1.35L5.41 20z\"/>\n",
              "  </svg>\n",
              "      </button>\n",
              "      \n",
              "  <style>\n",
              "    .colab-df-container {\n",
              "      display:flex;\n",
              "      flex-wrap:wrap;\n",
              "      gap: 12px;\n",
              "    }\n",
              "\n",
              "    .colab-df-convert {\n",
              "      background-color: #E8F0FE;\n",
              "      border: none;\n",
              "      border-radius: 50%;\n",
              "      cursor: pointer;\n",
              "      display: none;\n",
              "      fill: #1967D2;\n",
              "      height: 32px;\n",
              "      padding: 0 0 0 0;\n",
              "      width: 32px;\n",
              "    }\n",
              "\n",
              "    .colab-df-convert:hover {\n",
              "      background-color: #E2EBFA;\n",
              "      box-shadow: 0px 1px 2px rgba(60, 64, 67, 0.3), 0px 1px 3px 1px rgba(60, 64, 67, 0.15);\n",
              "      fill: #174EA6;\n",
              "    }\n",
              "\n",
              "    [theme=dark] .colab-df-convert {\n",
              "      background-color: #3B4455;\n",
              "      fill: #D2E3FC;\n",
              "    }\n",
              "\n",
              "    [theme=dark] .colab-df-convert:hover {\n",
              "      background-color: #434B5C;\n",
              "      box-shadow: 0px 1px 3px 1px rgba(0, 0, 0, 0.15);\n",
              "      filter: drop-shadow(0px 1px 2px rgba(0, 0, 0, 0.3));\n",
              "      fill: #FFFFFF;\n",
              "    }\n",
              "  </style>\n",
              "\n",
              "      <script>\n",
              "        const buttonEl =\n",
              "          document.querySelector('#df-c8dbed51-353b-4f93-ac70-261cc94787c0 button.colab-df-convert');\n",
              "        buttonEl.style.display =\n",
              "          google.colab.kernel.accessAllowed ? 'block' : 'none';\n",
              "\n",
              "        async function convertToInteractive(key) {\n",
              "          const element = document.querySelector('#df-c8dbed51-353b-4f93-ac70-261cc94787c0');\n",
              "          const dataTable =\n",
              "            await google.colab.kernel.invokeFunction('convertToInteractive',\n",
              "                                                     [key], {});\n",
              "          if (!dataTable) return;\n",
              "\n",
              "          const docLinkHtml = 'Like what you see? Visit the ' +\n",
              "            '<a target=\"_blank\" href=https://colab.research.google.com/notebooks/data_table.ipynb>data table notebook</a>'\n",
              "            + ' to learn more about interactive tables.';\n",
              "          element.innerHTML = '';\n",
              "          dataTable['output_type'] = 'display_data';\n",
              "          await google.colab.output.renderOutput(dataTable, element);\n",
              "          const docLink = document.createElement('div');\n",
              "          docLink.innerHTML = docLinkHtml;\n",
              "          element.appendChild(docLink);\n",
              "        }\n",
              "      </script>\n",
              "    </div>\n",
              "  </div>\n",
              "  "
            ]
          },
          "metadata": {},
          "execution_count": 169
        }
      ]
    },
    {
      "cell_type": "code",
      "source": [
        "\n",
        "Xc_chicago = pd.get_dummies(X_chicago_categorical_data)\n",
        "\n",
        "Xc_DC = pd.get_dummies(X_DC_categorical_data)"
      ],
      "metadata": {
        "id": "5OnR2knvPtoP"
      },
      "execution_count": 171,
      "outputs": []
    },
    {
      "cell_type": "markdown",
      "metadata": {
        "id": "3Wd7WBC6fSSI"
      },
      "source": [
        "# Task 4 recombine your numerical and categorical imput features and split your data into training and testing"
      ]
    },
    {
      "cell_type": "code",
      "source": [
        "\n",
        "X_chicago = pd.concat([X_chicago_numeric_data, Xc_chicago], axis=1)\n",
        "\n",
        "\n",
        "X_DC = pd.concat([X_DC_numeric_data, Xc_DC], axis=1)\n",
        "\n",
        "\n",
        "print(\"Chicago dataset has {} features (!!!)\".format(X_chicago.shape[1]))\n",
        "\n",
        "print(\"DC dataset has {} features (!!!)\".format(X_DC.shape[1]))"
      ],
      "metadata": {
        "id": "enYwqGdnQI1m",
        "outputId": "6154c566-2d3c-47dc-d1fe-d498ca799b11",
        "colab": {
          "base_uri": "https://localhost:8080/"
        }
      },
      "execution_count": 172,
      "outputs": [
        {
          "output_type": "stream",
          "name": "stdout",
          "text": [
            "Chicago dataset has 51 features (!!!)\n",
            "DC dataset has 156 features (!!!)\n"
          ]
        }
      ]
    },
    {
      "cell_type": "code",
      "metadata": {
        "id": "eq9FKlTgOsvX",
        "outputId": "5363de57-331d-45cc-e974-9e3d9358b950",
        "colab": {
          "base_uri": "https://localhost:8080/"
        }
      },
      "source": [
        "y_chicago.shape"
      ],
      "execution_count": 173,
      "outputs": [
        {
          "output_type": "execute_result",
          "data": {
            "text/plain": [
              "(2688, 1)"
            ]
          },
          "metadata": {},
          "execution_count": 173
        }
      ]
    },
    {
      "cell_type": "code",
      "metadata": {
        "id": "ob2Nd1_pTeAx",
        "outputId": "86139549-722f-411a-b9ae-b068e805b122",
        "colab": {
          "base_uri": "https://localhost:8080/"
        }
      },
      "source": [
        "X_chicago.shape"
      ],
      "execution_count": 174,
      "outputs": [
        {
          "output_type": "execute_result",
          "data": {
            "text/plain": [
              "(2688, 51)"
            ]
          },
          "metadata": {},
          "execution_count": 174
        }
      ]
    },
    {
      "cell_type": "code",
      "source": [
        "y_DC.shape"
      ],
      "metadata": {
        "id": "cTi6E7ZzQ_dU",
        "outputId": "488b83d1-319a-42a7-9669-4dd67906b908",
        "colab": {
          "base_uri": "https://localhost:8080/"
        }
      },
      "execution_count": 175,
      "outputs": [
        {
          "output_type": "execute_result",
          "data": {
            "text/plain": [
              "(1455, 1)"
            ]
          },
          "metadata": {},
          "execution_count": 175
        }
      ]
    },
    {
      "cell_type": "code",
      "source": [
        "X_DC.shape"
      ],
      "metadata": {
        "id": "mgO3hQNGQ_a3",
        "outputId": "618d3ea3-6ba4-4490-9e6e-ee76eec480ef",
        "colab": {
          "base_uri": "https://localhost:8080/"
        }
      },
      "execution_count": 176,
      "outputs": [
        {
          "output_type": "execute_result",
          "data": {
            "text/plain": [
              "(1455, 156)"
            ]
          },
          "metadata": {},
          "execution_count": 176
        }
      ]
    },
    {
      "cell_type": "code",
      "metadata": {
        "id": "WCUUattUUfqR"
      },
      "source": [
        "# make a train and test dataset\n",
        "from sklearn.model_selection import train_test_split\n",
        "\n",
        "\n",
        "\n",
        "X_chicago_train, X_chicago_test, y_chicago_train, y_chicago_test = train_test_split(X_chicago, y_chicago, train_size=0.75, random_state=123)\n",
        "X_DC_train, X_DC_test, y_DC_train, y_DC_test = train_test_split(X_DC, y_DC, train_size=0.75, random_state=123)"
      ],
      "execution_count": 177,
      "outputs": []
    },
    {
      "cell_type": "markdown",
      "metadata": {
        "id": "ao-6jRG0fdNT"
      },
      "source": [
        "# TASK 5 run a random forest REGRESSION model\n",
        "\n",
        "report the score on the tranining and test data and identify the most important features\n",
        "\n",
        "(hint: if you see \"ValueError: Input contains NaN, infinity or a value too large for dtype('float64').\" check \n",
        "1. np.isnan(Xn).sum().sum() and np.isnan(Xc).sum().sum() both return 0\n",
        "2. np.isinf(Xn).sum().sum() returns 0\n",
        "3. all the feature that had very large numbers (> 1e5) have been converted to the log of their values"
      ]
    },
    {
      "cell_type": "code",
      "metadata": {
        "id": "kEiFt_htTjNF",
        "outputId": "b4178b6a-ed25-4b14-ece7-c8db28fab352",
        "colab": {
          "base_uri": "https://localhost:8080/"
        }
      },
      "source": [
        "from sklearn.ensemble import RandomForestRegressor\n",
        "\n",
        "rf_chicago = RandomForestRegressor(max_depth=7, random_state=120);\n",
        "rf_chicago.fit(X_chicago_train, y_chicago_train);\n",
        "\n",
        "rf_DC = RandomForestRegressor(max_depth=7, random_state=120);\n",
        "rf_DC.fit(X_DC_train, y_DC_train);\n"
      ],
      "execution_count": 178,
      "outputs": [
        {
          "output_type": "stream",
          "name": "stderr",
          "text": [
            "/usr/local/lib/python3.7/dist-packages/ipykernel_launcher.py:4: DataConversionWarning: A column-vector y was passed when a 1d array was expected. Please change the shape of y to (n_samples,), for example using ravel().\n",
            "  after removing the cwd from sys.path.\n",
            "/usr/local/lib/python3.7/dist-packages/ipykernel_launcher.py:7: DataConversionWarning: A column-vector y was passed when a 1d array was expected. Please change the shape of y to (n_samples,), for example using ravel().\n",
            "  import sys\n"
          ]
        }
      ]
    },
    {
      "cell_type": "code",
      "metadata": {
        "id": "ymTuhJURT8hC",
        "outputId": "f0afe107-cd66-42b0-a5e8-b7849ea914f8",
        "colab": {
          "base_uri": "https://localhost:8080/"
        }
      },
      "source": [
        "print(\"Chicago City: Accuracy on training data {:.2}\".format(rf_chicago.score(X_chicago_train, y_chicago_train)))\n",
        "print(\"Chicago City: Accuracy on testing data {:.2}\".format(rf_chicago.score(X_chicago_test, y_chicago_test)))"
      ],
      "execution_count": 179,
      "outputs": [
        {
          "output_type": "stream",
          "name": "stdout",
          "text": [
            "Chicago City: Accuracy on training data 0.83\n",
            "Chicago City: Accuracy on testing data 0.77\n"
          ]
        }
      ]
    },
    {
      "cell_type": "code",
      "source": [
        "print(\"DC City: Accuracy on training data {:.2}\".format(rf_DC.score(X_DC_train, y_DC_train)))\n",
        "print(\"DC City: Accuracy on testing data {:.2}\".format(rf_DC.score(X_DC_test, y_DC_test)))"
      ],
      "metadata": {
        "id": "Kb_zrs-3TiP2",
        "outputId": "484a1f22-e479-496c-d52d-aa1dc86c727f",
        "colab": {
          "base_uri": "https://localhost:8080/"
        }
      },
      "execution_count": 180,
      "outputs": [
        {
          "output_type": "stream",
          "name": "stdout",
          "text": [
            "DC City: Accuracy on training data 0.88\n",
            "DC City: Accuracy on testing data 0.79\n"
          ]
        }
      ]
    },
    {
      "cell_type": "code",
      "metadata": {
        "id": "jX2RquwBUT0a",
        "colab": {
          "base_uri": "https://localhost:8080/"
        },
        "outputId": "b0a3def9-e0dc-4fd1-c2bb-81e5456078a7"
      },
      "source": [
        "#To see the importance of the features in Chicago data\n",
        "rf_chicago.feature_importances_[:10]"
      ],
      "execution_count": 181,
      "outputs": [
        {
          "output_type": "execute_result",
          "data": {
            "text/plain": [
              "array([4.82844866e-01, 1.75308960e-02, 9.28714308e-03, 4.19237370e-01,\n",
              "       1.17665136e-05, 1.72540330e-04, 1.47573281e-06, 0.00000000e+00,\n",
              "       6.30870406e-04, 1.69279239e-06])"
            ]
          },
          "metadata": {},
          "execution_count": 181
        }
      ]
    },
    {
      "cell_type": "code",
      "source": [
        "#To see the importance of the features in DC data\n",
        "rf_DC.feature_importances_[:10]"
      ],
      "metadata": {
        "id": "ur7WtytfUTqk",
        "outputId": "a15b24f8-68b1-4072-865e-110408dd8741",
        "colab": {
          "base_uri": "https://localhost:8080/"
        }
      },
      "execution_count": 182,
      "outputs": [
        {
          "output_type": "execute_result",
          "data": {
            "text/plain": [
              "array([0.00436805, 0.01131005, 0.01672027, 0.78590646, 0.03800577,\n",
              "       0.02046353, 0.01141634, 0.01081902, 0.00095636, 0.        ])"
            ]
          },
          "metadata": {},
          "execution_count": 182
        }
      ]
    },
    {
      "cell_type": "code",
      "metadata": {
        "id": "465vWw5gWGA3",
        "colab": {
          "base_uri": "https://localhost:8080/"
        },
        "outputId": "9b99d7a8-13f0-40c2-9f22-eb88d0686749"
      },
      "source": [
        "\n",
        "feature_names = X_chicago.columns[:10]\n",
        "feature_names\n",
        "#len(feature_names)"
      ],
      "execution_count": 183,
      "outputs": [
        {
          "output_type": "execute_result",
          "data": {
            "text/plain": [
              "Index(['Gross.Floor.Area...Buildings..sq.ft.', 'Year.Built', 'X..of.Buildings',\n",
              "       'log_total_area', 'Primary.Property.Type_Adult Education',\n",
              "       'Primary.Property.Type_Ambulatory Surgical Center',\n",
              "       'Primary.Property.Type_Automobile Dealership',\n",
              "       'Primary.Property.Type_Bank Branch',\n",
              "       'Primary.Property.Type_College/University',\n",
              "       'Primary.Property.Type_Convention Center'],\n",
              "      dtype='object')"
            ]
          },
          "metadata": {},
          "execution_count": 183
        }
      ]
    },
    {
      "cell_type": "code",
      "source": [
        "feature_names = X_DC.columns[:10]\n",
        "feature_names\n",
        "#len(feature_names)"
      ],
      "metadata": {
        "id": "HwCE0ilBUxFU",
        "outputId": "a9f887a4-f421-4ddb-aca5-aa7b846a2092",
        "colab": {
          "base_uri": "https://localhost:8080/"
        }
      },
      "execution_count": 184,
      "outputs": [
        {
          "output_type": "execute_result",
          "data": {
            "text/plain": [
              "Index(['ward', 'year_built', 'tax_record_floor_area',\n",
              "       'reported_gross_floor_area', 'water_use', 'log_floor_area_tax',\n",
              "       'report_status_Data under review by DOEE',\n",
              "       'report_status_In Compliance', 'postal_code_20001',\n",
              "       'postal_code_20001-2620'],\n",
              "      dtype='object')"
            ]
          },
          "metadata": {},
          "execution_count": 184
        }
      ]
    },
    {
      "cell_type": "code",
      "source": [
        "imp_chicago = pd.DataFrame()\n",
        "imp_chicago[\"features\"] = X_chicago.columns\n",
        "imp_chicago[\"importances\"] = rf_chicago.feature_importances_\n",
        "\n",
        "imp_DC = pd.DataFrame()\n",
        "imp_DC[\"features\"] = X_DC.columns\n",
        "imp_DC[\"importances\"] = rf_DC.feature_importances_\n"
      ],
      "metadata": {
        "id": "jNoCax7HU78t"
      },
      "execution_count": 185,
      "outputs": []
    },
    {
      "cell_type": "code",
      "metadata": {
        "id": "jO9F9bMRUYgU",
        "outputId": "15360188-2f8b-4446-eb65-88c3cc4ad869",
        "colab": {
          "base_uri": "https://localhost:8080/",
          "height": 513
        }
      },
      "source": [
        "# plot the top ~50 features\n",
        "import pylab as plt\n",
        "feature_names = rf_chicago.feature_names_in_\n",
        "top50 = imp_chicago.sort_values(\"importances\", ascending=False)[:50]\n",
        "\n",
        "\n",
        "fig, ax = plt.subplots(figsize=(15, 7))\n",
        "top50.plot(\"features\", \"importances\", kind=\"bar\", xlabel=\"\",\n",
        "           ylabel=\"feature importance\", legend=False, ax=ax)\n",
        "ax.set_title(\"Chicago: Random Forest Feature Importances (MDI)\")\n",
        "fig.tight_layout()\n",
        "fig.show()\n",
        "\n",
        "#your plot may be different from mine"
      ],
      "execution_count": 186,
      "outputs": [
        {
          "output_type": "display_data",
          "data": {
            "text/plain": [
              "<Figure size 1080x504 with 1 Axes>"
            ],
            "image/png": "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\n"
          },
          "metadata": {
            "needs_background": "light"
          }
        }
      ]
    },
    {
      "cell_type": "markdown",
      "source": [
        "\n",
        "The feature model importance makes sense. The model priotizes the floor area as the most important variable in the total energy consumption seconded by builing typeand year built.\n",
        "This sorting makes sense since the bigger the building the more energy it may require. This is intersting result."
      ],
      "metadata": {
        "id": "6vU0WXwHW-5s"
      }
    },
    {
      "cell_type": "code",
      "source": [
        "# plot the top ~50 features\n",
        "import pylab as plt\n",
        "feature_names = rf_DC.feature_names_in_\n",
        "top50 = imp_DC.sort_values(\"importances\", ascending=False)[:50]\n",
        "\n",
        "\n",
        "fig, ax = plt.subplots(figsize=(15, 7))\n",
        "top50.plot(\"features\", \"importances\", kind=\"bar\", xlabel=\"\",\n",
        "           ylabel=\"feature importance\", legend=False, ax=ax)\n",
        "ax.set_title(\"DC: Random Forest Feature Importances (MDI)\")\n",
        "fig.tight_layout()\n",
        "fig.show()\n",
        "\n",
        "#your plot may be different from mine"
      ],
      "metadata": {
        "id": "SDHZMMVWVpEU",
        "outputId": "b5613665-de5b-4ccc-827c-4bfff93de268",
        "colab": {
          "base_uri": "https://localhost:8080/",
          "height": 513
        }
      },
      "execution_count": 188,
      "outputs": [
        {
          "output_type": "display_data",
          "data": {
            "text/plain": [
              "<Figure size 1080x504 with 1 Axes>"
            ],
            "image/png": "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\n"
          },
          "metadata": {
            "needs_background": "light"
          }
        }
      ]
    },
    {
      "cell_type": "markdown",
      "source": [
        "The feature model importance makes sense. The model priotizes the floor area just like the model for Chicago. But in Chicago Total floor area is seconded by water use.\n",
        "\n",
        "This sorting makes sense since the bigger the building the more energy it may require. This is intersting result.\n",
        "\n",
        "Now that the resulting models seem to agree in terms of the outcomes of feature importance, this is very something that requires attention and can be considered for city energy consulption policies. "
      ],
      "metadata": {
        "id": "K_QYiRcRXNKj"
      }
    },
    {
      "cell_type": "markdown",
      "source": [
        "# DISCUSSION\n",
        "Based on the two Cities Chicago and DC, the RF models for both cities seem to perform well. For instance the Chicago Model, the overall accuracy on training data is 83% and the accuracy on testing is 77%. These are good results based on the model performance. \n",
        "\n",
        "Same applies to the DC model, the overall accuracy on training data is 88% and the accuracy on testing is 79%. These are good results based on the model performance. But the DC model is performing much better than the Chicago model based on these figures. \n",
        "\n",
        "After plotting the features sorted by their importance, in Chicago, the Gross Floor Area of Buildings is the most important varible and in DC, it is same variable but named as Gross Floor Area. THis is the same viable as in Chicago. These are the most important features. And they are consistent between these two cities.\n",
        "\n",
        "These results are consistent with the paper's result since the paper also found out that Total area is the most important feature/variable in the modeling process. This was seconded by wateruse in DC and by building area in Chicago. These difference in the cities would be due to local context, but the overall most importance feature is the same for both cities. \n"
      ],
      "metadata": {
        "id": "TEYnBVRkYOxL"
      }
    }
  ]
}
