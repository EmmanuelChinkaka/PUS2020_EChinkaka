{
  "nbformat": 4,
  "nbformat_minor": 0,
  "metadata": {
    "colab": {
      "provenance": [],
      "authorship_tag": "ABX9TyP9pqdXClOxdzgVfhD3BKch",
      "include_colab_link": true
    },
    "kernelspec": {
      "name": "python3",
      "display_name": "Python 3"
    },
    "language_info": {
      "name": "python"
    }
  },
  "cells": [
    {
      "cell_type": "markdown",
      "metadata": {
        "id": "view-in-github",
        "colab_type": "text"
      },
      "source": [
        "<a href=\"https://colab.research.google.com/github/EmmanuelChinkaka/PUS2020_EChinkaka/blob/main/HW2/HypothesisTesting.ipynb\" target=\"_parent\"><img src=\"https://colab.research.google.com/assets/colab-badge.svg\" alt=\"Open In Colab\"/></a>"
      ]
    },
    {
      "cell_type": "code",
      "execution_count": null,
      "metadata": {
        "id": "QgoaeHeq_VEO"
      },
      "outputs": [],
      "source": [
        "Assigned Reading\n",
        "\n",
        "The paper titled 'What is the Question' By Jeff Leek and Roger Peng was a nice read to understand the common mistakes in data science and data analysis in general.\n",
        "From the flowchart, I learnt that the data analysis flow can be misunderstgood if the question being addressed is mistaken. Depending on how the question is been answered,\n",
        "the data analysis can be categorized into: Destriptive, Exploratory, etc.\n",
        "\n"
      ]
    },
    {
      "cell_type": "markdown",
      "source": [],
      "metadata": {
        "id": "S9UtGyAD_h28"
      }
    }
  ]
}